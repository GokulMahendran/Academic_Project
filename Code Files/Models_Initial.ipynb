{
 "cells": [
  {
   "cell_type": "markdown",
   "metadata": {},
   "source": [
    "### Importing Libaries"
   ]
  },
  {
   "cell_type": "code",
   "execution_count": 22,
   "metadata": {},
   "outputs": [],
   "source": [
    "import pandas as pd\n",
    "import numpy as np\n",
    "import matplotlib.pyplot as plt\n",
    "import warnings\n",
    "warnings.filterwarnings(\"ignore\")\n",
    "\n",
    "from sklearn.preprocessing import MinMaxScaler\n",
    "from sklearn.preprocessing import StandardScaler\n",
    "from sklearn.model_selection import train_test_split\n",
    "from sklearn.metrics import confusion_matrix\n",
    "from sklearn.metrics import accuracy_score\n",
    "from sklearn.metrics import classification_report\n",
    "from sklearn.metrics import roc_auc_score\n",
    "from sklearn.metrics import roc_curve"
   ]
  },
  {
   "cell_type": "markdown",
   "metadata": {},
   "source": [
    "### Import the data"
   ]
  },
  {
   "cell_type": "code",
   "execution_count": 2,
   "metadata": {},
   "outputs": [],
   "source": [
    "df=pd.read_csv(\"train.csv\")"
   ]
  },
  {
   "cell_type": "code",
   "execution_count": 3,
   "metadata": {},
   "outputs": [],
   "source": [
    "def cns_desc(x):\n",
    "    if x<300:\n",
    "        return 0\n",
    "    elif (x>=300) and (x<=350):\n",
    "        return 1\n",
    "    elif (x>350) and (x<=570):\n",
    "        return 2\n",
    "    elif (x>570) and (x<=630):\n",
    "        return 3\n",
    "    elif (x>630) and (x<=705):\n",
    "        return 4\n",
    "    else:\n",
    "        return 5"
   ]
  },
  {
   "cell_type": "code",
   "execution_count": 4,
   "metadata": {},
   "outputs": [],
   "source": [
    "df[\"Date.of.Birth\"]=pd.to_datetime(df[\"Date.of.Birth\"])\n",
    "\n",
    "df[\"DisbursalDate\"]=pd.to_datetime(df[\"DisbursalDate\"])\n",
    "df[\"DisbursalDate_Month\"]=df[\"DisbursalDate\"].dt.month\n",
    "\n",
    "df[\"Age_at_disbursement\"]=((df['DisbursalDate']-df[\"Date.of.Birth\"])/365).apply(lambda x:x.days)\n",
    "\n",
    "df[\"Employment.Type\"]=df[\"Employment.Type\"].map({'Salaried':0,\"Self employed\":1,np.nan:2})\n",
    "\n",
    "df[\"PERFORM_CNS.SCORE.DESCRIPTION\"]=df[\"PERFORM_CNS.SCORE\"].apply(cns_desc)\n",
    "\n",
    "df[\"AVERAGE.ACCT.AGE\"]=df[\"AVERAGE.ACCT.AGE\"].apply(lambda x:(int((x.split(\"y\"))[0])*12)+(int((x.split())[1].split(\"m\")[0])))\n",
    "\n",
    "df[\"CREDIT.HISTORY.LENGTH\"]=df[\"CREDIT.HISTORY.LENGTH\"].apply(lambda x:(int((x.split(\"y\"))[0])*12)+(int((x.split())[1].split(\"m\")[0])))"
   ]
  },
  {
   "cell_type": "code",
   "execution_count": 5,
   "metadata": {},
   "outputs": [],
   "source": [
    "df['NO.OF.ACCTS']=df['PRI.NO.OF.ACCTS']+df['SEC.NO.OF.ACCTS']\n",
    "df['ACTIVE.ACCTS']=df['PRI.ACTIVE.ACCTS']+df['SEC.ACTIVE.ACCTS']\n",
    "df['OVERDUE.ACCTS']=df['PRI.OVERDUE.ACCTS']+df['SEC.OVERDUE.ACCTS']\n",
    "df['CURRENT.BALANCE']=df['PRI.CURRENT.BALANCE']+df['SEC.CURRENT.BALANCE']\n",
    "df['SANCTIONED.AMOUNT']=df['PRI.SANCTIONED.AMOUNT']+df['SEC.SANCTIONED.AMOUNT']\n",
    "df['DISBURSED.AMOUNT']=df['PRI.DISBURSED.AMOUNT']+df['SEC.DISBURSED.AMOUNT']\n",
    "df['INSTAL.AMT']=df['PRIMARY.INSTAL.AMT']+df['SEC.INSTAL.AMT']\n",
    "\n",
    "df=df.drop(['PRI.NO.OF.ACCTS','SEC.NO.OF.ACCTS','PRI.ACTIVE.ACCTS','SEC.ACTIVE.ACCTS','PRI.OVERDUE.ACCTS','SEC.OVERDUE.ACCTS','PRI.CURRENT.BALANCE','SEC.CURRENT.BALANCE','PRI.SANCTIONED.AMOUNT','SEC.SANCTIONED.AMOUNT','PRI.DISBURSED.AMOUNT','SEC.DISBURSED.AMOUNT','PRIMARY.INSTAL.AMT','SEC.INSTAL.AMT'],axis=1)"
   ]
  },
  {
   "cell_type": "code",
   "execution_count": 7,
   "metadata": {},
   "outputs": [
    {
     "data": {
      "text/plain": [
       "UniqueID                               233154\n",
       "disbursed_amount                        24565\n",
       "asset_cost                              46252\n",
       "ltv                                      6579\n",
       "branch_id                                  82\n",
       "supplier_id                              2953\n",
       "manufacturer_id                            11\n",
       "Current_pincode_ID                       6698\n",
       "Date.of.Birth                           15433\n",
       "Employment.Type                             3\n",
       "DisbursalDate                              84\n",
       "State_ID                                   22\n",
       "Employee_code_ID                         3270\n",
       "MobileNo_Avl_Flag                           1\n",
       "Aadhar_flag                                 2\n",
       "PAN_flag                                    2\n",
       "VoterID_flag                                2\n",
       "Driving_flag                                2\n",
       "Passport_flag                               2\n",
       "PERFORM_CNS.SCORE                         573\n",
       "PERFORM_CNS.SCORE.DESCRIPTION               6\n",
       "NEW.ACCTS.IN.LAST.SIX.MONTHS               26\n",
       "DELINQUENT.ACCTS.IN.LAST.SIX.MONTHS        14\n",
       "AVERAGE.ACCT.AGE                          192\n",
       "CREDIT.HISTORY.LENGTH                     294\n",
       "NO.OF_INQUIRIES                            25\n",
       "loan_default                                2\n",
       "DisbursalDate_Month                        12\n",
       "Age_at_disbursement                        49\n",
       "NO.OF.ACCTS                               108\n",
       "ACTIVE.ACCTS                               41\n",
       "OVERDUE.ACCTS                              22\n",
       "CURRENT.BALANCE                         72483\n",
       "SANCTIONED.AMOUNT                       45367\n",
       "DISBURSED.AMOUNT                        48958\n",
       "INSTAL.AMT                              28540\n",
       "dtype: int64"
      ]
     },
     "execution_count": 7,
     "metadata": {},
     "output_type": "execute_result"
    }
   ],
   "source": [
    "df.nunique()"
   ]
  },
  {
   "cell_type": "code",
   "execution_count": 8,
   "metadata": {},
   "outputs": [
    {
     "data": {
      "text/plain": [
       "Index(['UniqueID', 'disbursed_amount', 'asset_cost', 'ltv', 'branch_id',\n",
       "       'supplier_id', 'manufacturer_id', 'Current_pincode_ID', 'Date.of.Birth',\n",
       "       'Employment.Type', 'DisbursalDate', 'State_ID', 'Employee_code_ID',\n",
       "       'MobileNo_Avl_Flag', 'Aadhar_flag', 'PAN_flag', 'VoterID_flag',\n",
       "       'Driving_flag', 'Passport_flag', 'PERFORM_CNS.SCORE',\n",
       "       'PERFORM_CNS.SCORE.DESCRIPTION', 'NEW.ACCTS.IN.LAST.SIX.MONTHS',\n",
       "       'DELINQUENT.ACCTS.IN.LAST.SIX.MONTHS', 'AVERAGE.ACCT.AGE',\n",
       "       'CREDIT.HISTORY.LENGTH', 'NO.OF_INQUIRIES', 'loan_default',\n",
       "       'DisbursalDate_Month', 'Age_at_disbursement', 'NO.OF.ACCTS',\n",
       "       'ACTIVE.ACCTS', 'OVERDUE.ACCTS', 'CURRENT.BALANCE', 'SANCTIONED.AMOUNT',\n",
       "       'DISBURSED.AMOUNT', 'INSTAL.AMT'],\n",
       "      dtype='object')"
      ]
     },
     "execution_count": 8,
     "metadata": {},
     "output_type": "execute_result"
    }
   ],
   "source": [
    "df.columns"
   ]
  },
  {
   "cell_type": "code",
   "execution_count": 6,
   "metadata": {},
   "outputs": [],
   "source": [
    "df=df.drop(columns=['Date.of.Birth',\"DisbursalDate\"])"
   ]
  },
  {
   "cell_type": "code",
   "execution_count": 7,
   "metadata": {},
   "outputs": [],
   "source": [
    "cols=df.columns.to_list()"
   ]
  },
  {
   "cell_type": "code",
   "execution_count": 8,
   "metadata": {},
   "outputs": [],
   "source": [
    "cat_cols=['UniqueID','branch_id','supplier_id', 'manufacturer_id', 'Current_pincode_ID','Employment.Type', 'State_ID',\n",
    "          'Employee_code_ID','MobileNo_Avl_Flag', 'Aadhar_flag', 'PAN_flag', 'VoterID_flag','Driving_flag', 'Passport_flag',\n",
    "       'PERFORM_CNS.SCORE.DESCRIPTION','DisbursalDate_Month']"
   ]
  },
  {
   "cell_type": "code",
   "execution_count": 9,
   "metadata": {},
   "outputs": [],
   "source": [
    "target_col=\"loan_default\""
   ]
  },
  {
   "cell_type": "code",
   "execution_count": 10,
   "metadata": {},
   "outputs": [],
   "source": [
    "num_cols=['disbursed_amount','asset_cost','ltv','PERFORM_CNS.SCORE','NEW.ACCTS.IN.LAST.SIX.MONTHS',\n",
    "          'DELINQUENT.ACCTS.IN.LAST.SIX.MONTHS','AVERAGE.ACCT.AGE','CREDIT.HISTORY.LENGTH','NO.OF_INQUIRIES',\n",
    "          'Age_at_disbursement','NO.OF.ACCTS','ACTIVE.ACCTS','OVERDUE.ACCTS','CURRENT.BALANCE','SANCTIONED.AMOUNT',\n",
    "             'DISBURSED.AMOUNT','INSTAL.AMT']"
   ]
  },
  {
   "cell_type": "code",
   "execution_count": 11,
   "metadata": {},
   "outputs": [
    {
     "data": {
      "text/plain": [
       "UniqueID                         233154\n",
       "branch_id                            82\n",
       "supplier_id                        2953\n",
       "manufacturer_id                      11\n",
       "Current_pincode_ID                 6698\n",
       "Employment.Type                       3\n",
       "State_ID                             22\n",
       "Employee_code_ID                   3270\n",
       "MobileNo_Avl_Flag                     1\n",
       "Aadhar_flag                           2\n",
       "PAN_flag                              2\n",
       "VoterID_flag                          2\n",
       "Driving_flag                          2\n",
       "Passport_flag                         2\n",
       "PERFORM_CNS.SCORE.DESCRIPTION         6\n",
       "DisbursalDate_Month                  12\n",
       "dtype: int64"
      ]
     },
     "execution_count": 11,
     "metadata": {},
     "output_type": "execute_result"
    }
   ],
   "source": [
    "df[cat_cols].nunique()"
   ]
  },
  {
   "cell_type": "markdown",
   "metadata": {},
   "source": [
    "As we see no of unique elements in some categorical columns is higher,we couldn't take dummies as it will cause curse of \n",
    "dimensionality.Let's drop them."
   ]
  },
  {
   "cell_type": "code",
   "execution_count": 15,
   "metadata": {},
   "outputs": [],
   "source": [
    "linear_models_df=df.copy()"
   ]
  },
  {
   "cell_type": "code",
   "execution_count": 16,
   "metadata": {},
   "outputs": [],
   "source": [
    "linear_models_df=linear_models_df.drop(columns=['UniqueID','supplier_id','Current_pincode_ID','Employee_code_ID',\"MobileNo_Avl_Flag\"])"
   ]
  },
  {
   "cell_type": "code",
   "execution_count": 16,
   "metadata": {},
   "outputs": [],
   "source": [
    "cols_to_be_dummied=[\"branch_id\",\"State_ID\",\"manufacturer_id\",'Employment.Type','DisbursalDate_Month','PERFORM_CNS.SCORE.DESCRIPTION']"
   ]
  },
  {
   "cell_type": "code",
   "execution_count": 18,
   "metadata": {},
   "outputs": [],
   "source": [
    "linear_models_final_df=pd.get_dummies(data=linear_models_df,columns=cols_to_be_dummied,drop_first=True)"
   ]
  },
  {
   "cell_type": "markdown",
   "metadata": {},
   "source": [
    "**Since Current balance has negative values we will take scaled between 0 and 1**"
   ]
  },
  {
   "cell_type": "code",
   "execution_count": 19,
   "metadata": {},
   "outputs": [],
   "source": [
    "scalar=MinMaxScaler()\n",
    "linear_models_final_df[\"CURRENT.BALANCE\"]=scalar.fit_transform(linear_models_final_df[\"CURRENT.BALANCE\"].values.reshape(-1,1))"
   ]
  },
  {
   "cell_type": "code",
   "execution_count": 20,
   "metadata": {},
   "outputs": [
    {
     "data": {
      "text/html": [
       "<div>\n",
       "<style scoped>\n",
       "    .dataframe tbody tr th:only-of-type {\n",
       "        vertical-align: middle;\n",
       "    }\n",
       "\n",
       "    .dataframe tbody tr th {\n",
       "        vertical-align: top;\n",
       "    }\n",
       "\n",
       "    .dataframe thead th {\n",
       "        text-align: right;\n",
       "    }\n",
       "</style>\n",
       "<table border=\"1\" class=\"dataframe\">\n",
       "  <thead>\n",
       "    <tr style=\"text-align: right;\">\n",
       "      <th></th>\n",
       "      <th>Scores</th>\n",
       "    </tr>\n",
       "  </thead>\n",
       "  <tbody>\n",
       "    <tr>\n",
       "      <th>disbursed_amount</th>\n",
       "      <td>4.492240</td>\n",
       "    </tr>\n",
       "    <tr>\n",
       "      <th>asset_cost</th>\n",
       "      <td>6.133485</td>\n",
       "    </tr>\n",
       "    <tr>\n",
       "      <th>ltv</th>\n",
       "      <td>-1.075766</td>\n",
       "    </tr>\n",
       "    <tr>\n",
       "      <th>PERFORM_CNS.SCORE</th>\n",
       "      <td>0.445150</td>\n",
       "    </tr>\n",
       "    <tr>\n",
       "      <th>NEW.ACCTS.IN.LAST.SIX.MONTHS</th>\n",
       "      <td>4.839326</td>\n",
       "    </tr>\n",
       "    <tr>\n",
       "      <th>DELINQUENT.ACCTS.IN.LAST.SIX.MONTHS</th>\n",
       "      <td>6.641996</td>\n",
       "    </tr>\n",
       "    <tr>\n",
       "      <th>AVERAGE.ACCT.AGE</th>\n",
       "      <td>3.285142</td>\n",
       "    </tr>\n",
       "    <tr>\n",
       "      <th>CREDIT.HISTORY.LENGTH</th>\n",
       "      <td>2.969155</td>\n",
       "    </tr>\n",
       "    <tr>\n",
       "      <th>NO.OF_INQUIRIES</th>\n",
       "      <td>7.870683</td>\n",
       "    </tr>\n",
       "    <tr>\n",
       "      <th>Age_at_disbursement</th>\n",
       "      <td>0.608667</td>\n",
       "    </tr>\n",
       "    <tr>\n",
       "      <th>NO.OF.ACCTS</th>\n",
       "      <td>9.474425</td>\n",
       "    </tr>\n",
       "    <tr>\n",
       "      <th>ACTIVE.ACCTS</th>\n",
       "      <td>5.278660</td>\n",
       "    </tr>\n",
       "    <tr>\n",
       "      <th>OVERDUE.ACCTS</th>\n",
       "      <td>7.312614</td>\n",
       "    </tr>\n",
       "    <tr>\n",
       "      <th>CURRENT.BALANCE</th>\n",
       "      <td>28.589453</td>\n",
       "    </tr>\n",
       "    <tr>\n",
       "      <th>SANCTIONED.AMOUNT</th>\n",
       "      <td>320.010642</td>\n",
       "    </tr>\n",
       "    <tr>\n",
       "      <th>DISBURSED.AMOUNT</th>\n",
       "      <td>318.903561</td>\n",
       "    </tr>\n",
       "    <tr>\n",
       "      <th>INSTAL.AMT</th>\n",
       "      <td>68.804991</td>\n",
       "    </tr>\n",
       "  </tbody>\n",
       "</table>\n",
       "</div>"
      ],
      "text/plain": [
       "                                         Scores\n",
       "disbursed_amount                       4.492240\n",
       "asset_cost                             6.133485\n",
       "ltv                                   -1.075766\n",
       "PERFORM_CNS.SCORE                      0.445150\n",
       "NEW.ACCTS.IN.LAST.SIX.MONTHS           4.839326\n",
       "DELINQUENT.ACCTS.IN.LAST.SIX.MONTHS    6.641996\n",
       "AVERAGE.ACCT.AGE                       3.285142\n",
       "CREDIT.HISTORY.LENGTH                  2.969155\n",
       "NO.OF_INQUIRIES                        7.870683\n",
       "Age_at_disbursement                    0.608667\n",
       "NO.OF.ACCTS                            9.474425\n",
       "ACTIVE.ACCTS                           5.278660\n",
       "OVERDUE.ACCTS                          7.312614\n",
       "CURRENT.BALANCE                       28.589453\n",
       "SANCTIONED.AMOUNT                    320.010642\n",
       "DISBURSED.AMOUNT                     318.903561\n",
       "INSTAL.AMT                            68.804991"
      ]
     },
     "execution_count": 20,
     "metadata": {},
     "output_type": "execute_result"
    }
   ],
   "source": [
    "val=[]\n",
    "for i in num_cols:\n",
    "    val.append(linear_models_df[i].skew())\n",
    "skew_df=pd.DataFrame(index=num_cols,data=val,columns=[\"Scores\"])\n",
    "skew_df"
   ]
  },
  {
   "cell_type": "code",
   "execution_count": 21,
   "metadata": {},
   "outputs": [],
   "source": [
    "cols_to_taken_log=skew_df[skew_df[\"Scores\"]>2].index"
   ]
  },
  {
   "cell_type": "code",
   "execution_count": 22,
   "metadata": {},
   "outputs": [],
   "source": [
    "for i in cols_to_taken_log:\n",
    "    linear_models_final_df[i]=np.log(linear_models_final_df[i]+1)"
   ]
  },
  {
   "cell_type": "markdown",
   "metadata": {},
   "source": [
    "### Data Spliting"
   ]
  },
  {
   "cell_type": "code",
   "execution_count": 23,
   "metadata": {},
   "outputs": [],
   "source": [
    "X=linear_models_final_df.drop('loan_default',axis=1)\n",
    "y=linear_models_final_df['loan_default']\n",
    "from sklearn.model_selection import train_test_split\n",
    "from sklearn.metrics import accuracy_score,f1_score\n",
    "X_train,X_test,y_train,y_test = train_test_split(X,y,test_size=0.2,random_state = 10)"
   ]
  },
  {
   "cell_type": "markdown",
   "metadata": {},
   "source": [
    "## Linear Models"
   ]
  },
  {
   "cell_type": "markdown",
   "metadata": {},
   "source": [
    "### LogisticRegression"
   ]
  },
  {
   "cell_type": "code",
   "execution_count": 24,
   "metadata": {},
   "outputs": [],
   "source": [
    "from sklearn.linear_model import LogisticRegression\n",
    "model=LogisticRegression()\n",
    "model=model.fit(X_train,y_train)\n",
    "y_pred=model.predict(X_test)"
   ]
  },
  {
   "cell_type": "code",
   "execution_count": 25,
   "metadata": {},
   "outputs": [
    {
     "name": "stdout",
     "output_type": "stream",
     "text": [
      "train score: 0.7831313028420087\n",
      "test score: 0.7826338701722031\n"
     ]
    }
   ],
   "source": [
    "print('train score:',model.score(X_train,y_train))\n",
    "print('test score:',model.score(X_test,y_test))"
   ]
  },
  {
   "cell_type": "code",
   "execution_count": 26,
   "metadata": {},
   "outputs": [
    {
     "name": "stdout",
     "output_type": "stream",
     "text": [
      "train auc score: 0.6292237792550881\n",
      "test auc score: 0.6324572466911386\n"
     ]
    }
   ],
   "source": [
    "train_prob=model.predict_proba(X_train)[::,-1]\n",
    "test_prob=model.predict_proba(X_test)[::,-1]\n",
    "print('train auc score:',roc_auc_score(y_train,train_prob))\n",
    "print('test auc score:',roc_auc_score(y_test,test_prob))"
   ]
  },
  {
   "cell_type": "code",
   "execution_count": 27,
   "metadata": {},
   "outputs": [
    {
     "name": "stdout",
     "output_type": "stream",
     "text": [
      "              precision    recall  f1-score   support\n",
      "\n",
      "           0       0.78      1.00      0.88     36499\n",
      "           1       0.46      0.00      0.00     10132\n",
      "\n",
      "    accuracy                           0.78     46631\n",
      "   macro avg       0.62      0.50      0.44     46631\n",
      "weighted avg       0.71      0.78      0.69     46631\n",
      "\n"
     ]
    }
   ],
   "source": [
    "print(classification_report(y_test,y_pred))"
   ]
  },
  {
   "cell_type": "markdown",
   "metadata": {},
   "source": [
    "### LinearDiscriminantAnalysis"
   ]
  },
  {
   "cell_type": "code",
   "execution_count": 28,
   "metadata": {},
   "outputs": [],
   "source": [
    "from sklearn.discriminant_analysis import LinearDiscriminantAnalysis\n",
    "model=LinearDiscriminantAnalysis()\n",
    "model=model.fit(X_train,y_train)\n",
    "y_pred=model.predict(X_test)"
   ]
  },
  {
   "cell_type": "code",
   "execution_count": 29,
   "metadata": {},
   "outputs": [
    {
     "name": "stdout",
     "output_type": "stream",
     "text": [
      "train score: 0.7829436584228219\n",
      "test score: 0.7827410949797345\n"
     ]
    }
   ],
   "source": [
    "print('train score:',model.score(X_train,y_train))\n",
    "print('test score:',model.score(X_test,y_test))"
   ]
  },
  {
   "cell_type": "code",
   "execution_count": 30,
   "metadata": {},
   "outputs": [
    {
     "name": "stdout",
     "output_type": "stream",
     "text": [
      "train auc score: 0.6547148186679624\n",
      "test auc score: 0.6551889939778134\n"
     ]
    }
   ],
   "source": [
    "lda_train_prob=model.predict_proba(X_train)[::,-1]\n",
    "lda_test_prob=model.predict_proba(X_test)[::,-1]\n",
    "print('train auc score:',roc_auc_score(y_train,lda_train_prob))\n",
    "print('test auc score:',roc_auc_score(y_test,lda_test_prob))"
   ]
  },
  {
   "cell_type": "code",
   "execution_count": 31,
   "metadata": {},
   "outputs": [
    {
     "name": "stdout",
     "output_type": "stream",
     "text": [
      "              precision    recall  f1-score   support\n",
      "\n",
      "           0       0.78      1.00      0.88     36499\n",
      "           1       0.50      0.01      0.02     10132\n",
      "\n",
      "    accuracy                           0.78     46631\n",
      "   macro avg       0.64      0.50      0.45     46631\n",
      "weighted avg       0.72      0.78      0.69     46631\n",
      "\n"
     ]
    }
   ],
   "source": [
    "print(classification_report(y_test,y_pred))"
   ]
  },
  {
   "cell_type": "markdown",
   "metadata": {},
   "source": [
    "### Distance based Models:"
   ]
  },
  {
   "cell_type": "raw",
   "metadata": {},
   "source": [
    "scaled_cols=['disbursed_amount', 'asset_cost', 'ltv', 'PERFORM_CNS.SCORE',\n",
    "       'NEW.ACCTS.IN.LAST.SIX.MONTHS', 'DELINQUENT.ACCTS.IN.LAST.SIX.MONTHS',\n",
    "       'AVERAGE.ACCT.AGE', 'CREDIT.HISTORY.LENGTH', 'NO.OF_INQUIRIES']\n",
    "for i in scaled_cols:\n",
    "    scalar=StandardScaler()\n",
    "    linear_models_final_df[i]=scalar.fit_transform(df[i].values.reshape(-1,1))"
   ]
  },
  {
   "cell_type": "raw",
   "metadata": {},
   "source": [
    "from sklearn.neighbors import KNeighborsClassifier\n",
    "model=KNeighborsClassifier()\n",
    "model=model.fit(X_train,y_train)\n",
    "y_pred=model.predict(X_test)"
   ]
  },
  {
   "cell_type": "raw",
   "metadata": {},
   "source": [
    "print('train score:',model.score(X_train,y_train))\n",
    "print('test score:',model.score(X_test,y_test))"
   ]
  },
  {
   "cell_type": "raw",
   "metadata": {},
   "source": [
    "knn_train_prob=model.predict_proba(X_train)[::,-1]\n",
    "knn_test_prob=model.predict_proba(X_test)[::,-1]\n",
    "print('train auc score:',roc_auc_score(y_train,knn_train_prob))\n",
    "print('test auc score:',roc_auc_score(y_test,knn_test_prob))"
   ]
  },
  {
   "cell_type": "raw",
   "metadata": {},
   "source": [
    "print(classification_report(y_test,y_pred))"
   ]
  },
  {
   "cell_type": "markdown",
   "metadata": {},
   "source": [
    "## Tree Based Models:"
   ]
  },
  {
   "cell_type": "code",
   "execution_count": 17,
   "metadata": {},
   "outputs": [],
   "source": [
    "df1=df.copy()\n",
    "df1=df1.drop(columns=[\"UniqueID\"])"
   ]
  },
  {
   "cell_type": "code",
   "execution_count": 18,
   "metadata": {},
   "outputs": [
    {
     "data": {
      "text/plain": [
       "supplier_id           2953\n",
       "Current_pincode_ID    6698\n",
       "Employee_code_ID      3270\n",
       "dtype: int64"
      ]
     },
     "execution_count": 18,
     "metadata": {},
     "output_type": "execute_result"
    }
   ],
   "source": [
    "df1[['supplier_id','Current_pincode_ID','Employee_code_ID']].nunique()"
   ]
  },
  {
   "cell_type": "code",
   "execution_count": 19,
   "metadata": {},
   "outputs": [],
   "source": [
    "from sklearn.preprocessing import OneHotEncoder\n",
    "for i in ['supplier_id','Current_pincode_ID','Employee_code_ID']:\n",
    "    one_hot=OneHotEncoder(handle_unknown=\"ignore\",sparse=False)\n",
    "    dummy_index=df1[i].value_counts()[:100].index.to_list()\n",
    "    one_hot.fit(np.array(dummy_index).reshape(-1, 1))\n",
    "    data=one_hot.transform(df1[i].values.reshape(-1, 1))\n",
    "    dummy=pd.DataFrame(data=data,columns=[str(j)+i for j in dummy_index])\n",
    "    df1=pd.concat([df1,dummy],axis=1)\n",
    "\n",
    "df1=pd.get_dummies(data=df1,columns=cols_to_be_dummied,drop_first=True)"
   ]
  },
  {
   "cell_type": "markdown",
   "metadata": {},
   "source": [
    "### Decision Tree"
   ]
  },
  {
   "cell_type": "code",
   "execution_count": 23,
   "metadata": {},
   "outputs": [],
   "source": [
    "X=df1.drop('loan_default',axis=1)\n",
    "y=df1['loan_default']\n",
    "X_train,X_test,y_train,y_test = train_test_split(X,y,test_size=0.2,random_state = 10)\n",
    "from sklearn.tree import DecisionTreeClassifier\n",
    "dtc_model=DecisionTreeClassifier()\n",
    "dtc_model.fit(X_train,y_train)\n",
    "y_pred=dtc_model.predict(X_test)"
   ]
  },
  {
   "cell_type": "code",
   "execution_count": 24,
   "metadata": {},
   "outputs": [
    {
     "name": "stdout",
     "output_type": "stream",
     "text": [
      "train score: 0.9999624711161627\n",
      "test score: 0.6747442688340375\n"
     ]
    }
   ],
   "source": [
    "print('train score:',dtc_model.score(X_train,y_train))\n",
    "print('test score:',dtc_model.score(X_test,y_test))"
   ]
  },
  {
   "cell_type": "code",
   "execution_count": 25,
   "metadata": {},
   "outputs": [
    {
     "name": "stdout",
     "output_type": "stream",
     "text": [
      "train auc score: 0.9999999958556866\n",
      "test auc score: 0.5319138558728556\n"
     ]
    }
   ],
   "source": [
    "train_prob=dtc_model.predict_proba(X_train)[::,-1]\n",
    "test_prob=dtc_model.predict_proba(X_test)[::,-1]\n",
    "print('train auc score:',roc_auc_score(y_train,train_prob))\n",
    "print('test auc score:',roc_auc_score(y_test,test_prob))"
   ]
  },
  {
   "cell_type": "code",
   "execution_count": 26,
   "metadata": {},
   "outputs": [
    {
     "name": "stdout",
     "output_type": "stream",
     "text": [
      "              precision    recall  f1-score   support\n",
      "\n",
      "           0       0.80      0.78      0.79     36499\n",
      "           1       0.26      0.28      0.27     10132\n",
      "\n",
      "    accuracy                           0.67     46631\n",
      "   macro avg       0.53      0.53      0.53     46631\n",
      "weighted avg       0.68      0.67      0.68     46631\n",
      "\n"
     ]
    }
   ],
   "source": [
    "print(classification_report(y_test,y_pred))"
   ]
  },
  {
   "cell_type": "markdown",
   "metadata": {},
   "source": [
    "### RandomForestClassifier"
   ]
  },
  {
   "cell_type": "code",
   "execution_count": 39,
   "metadata": {},
   "outputs": [],
   "source": [
    "from sklearn.ensemble import RandomForestClassifier\n",
    "rf_model=RandomForestClassifier()\n",
    "rf_model.fit(X_train,y_train)\n",
    "y_pred=rf_model.predict(X_test)"
   ]
  },
  {
   "cell_type": "code",
   "execution_count": 40,
   "metadata": {},
   "outputs": [
    {
     "name": "stdout",
     "output_type": "stream",
     "text": [
      "train score: 0.9999463873088037\n",
      "test score: 0.7795886856383093\n"
     ]
    }
   ],
   "source": [
    "print('train score:',rf_model.score(X_train,y_train))\n",
    "print('test score:',rf_model.score(X_test,y_test))"
   ]
  },
  {
   "cell_type": "code",
   "execution_count": 41,
   "metadata": {},
   "outputs": [
    {
     "name": "stdout",
     "output_type": "stream",
     "text": [
      "train auc score: 0.9999999936566631\n",
      "test auc score: 0.6394514596969039\n"
     ]
    }
   ],
   "source": [
    "train_prob=rf_model.predict_proba(X_train)[::,-1]\n",
    "test_prob=rf_model.predict_proba(X_test)[::,-1]\n",
    "print('train auc score:',roc_auc_score(y_train,train_prob))\n",
    "print('test auc score:',roc_auc_score(y_test,test_prob))"
   ]
  },
  {
   "cell_type": "code",
   "execution_count": 42,
   "metadata": {},
   "outputs": [
    {
     "name": "stdout",
     "output_type": "stream",
     "text": [
      "              precision    recall  f1-score   support\n",
      "\n",
      "           0       0.79      0.98      0.87     36499\n",
      "           1       0.43      0.04      0.07     10132\n",
      "\n",
      "    accuracy                           0.78     46631\n",
      "   macro avg       0.61      0.51      0.47     46631\n",
      "weighted avg       0.71      0.78      0.70     46631\n",
      "\n"
     ]
    }
   ],
   "source": [
    "print(classification_report(y_test,y_pred))"
   ]
  },
  {
   "cell_type": "code",
   "execution_count": 43,
   "metadata": {},
   "outputs": [
    {
     "name": "stdout",
     "output_type": "stream",
     "text": [
      "              precision    recall  f1-score   support\n",
      "\n",
      "           0       0.79      0.98      0.87     36499\n",
      "           1       0.43      0.04      0.07     10132\n",
      "\n",
      "    accuracy                           0.78     46631\n",
      "   macro avg       0.61      0.51      0.47     46631\n",
      "weighted avg       0.71      0.78      0.70     46631\n",
      "\n"
     ]
    }
   ],
   "source": [
    "print(classification_report(y_test,y_pred))"
   ]
  },
  {
   "cell_type": "code",
   "execution_count": null,
   "metadata": {},
   "outputs": [],
   "source": [
    "from sklearn.ensemble import GradientBoostingClassifier\n",
    "clf1 = GradientBoostingClassifier(random_state=42,\n",
    "                         learning_rate=0.8,\n",
    "                             n_estimators=50)\n",
    "clf1.fit(X_train, y_train)\n",
    "preds = clf1.predict(X_test)\n",
    "print(classification_report(y_test,preds))"
   ]
  },
  {
   "cell_type": "markdown",
   "metadata": {},
   "source": [
    "### Lightgbm"
   ]
  },
  {
   "cell_type": "code",
   "execution_count": 27,
   "metadata": {},
   "outputs": [],
   "source": [
    "import lightgbm as lgb\n",
    "lgb_model=lgb.LGBMClassifier()\n",
    "lgb_model.fit(X_train,y_train)\n",
    "y_pred=lgb_model.predict(X_test)"
   ]
  },
  {
   "cell_type": "code",
   "execution_count": 28,
   "metadata": {},
   "outputs": [
    {
     "name": "stdout",
     "output_type": "stream",
     "text": [
      "train auc score: 0.6988598427675644\n",
      "test auc score: 0.668679829170103\n"
     ]
    }
   ],
   "source": [
    "lgb_train_prob=lgb_model.predict_proba(X_train)[::,-1]\n",
    "lgb_test_prob=lgb_model.predict_proba(X_test)[::,-1]\n",
    "print('train auc score:',roc_auc_score(y_train,lgb_train_prob))\n",
    "print('test auc score:',roc_auc_score(y_test,lgb_test_prob))"
   ]
  },
  {
   "cell_type": "code",
   "execution_count": 29,
   "metadata": {},
   "outputs": [
    {
     "name": "stdout",
     "output_type": "stream",
     "text": [
      "              precision    recall  f1-score   support\n",
      "\n",
      "           0       0.78      1.00      0.88     36499\n",
      "           1       0.55      0.02      0.03     10132\n",
      "\n",
      "    accuracy                           0.78     46631\n",
      "   macro avg       0.67      0.51      0.45     46631\n",
      "weighted avg       0.73      0.78      0.69     46631\n",
      "\n"
     ]
    }
   ],
   "source": [
    "print(classification_report(y_test,y_pred))"
   ]
  },
  {
   "cell_type": "markdown",
   "metadata": {},
   "source": [
    "### Xgboost"
   ]
  },
  {
   "cell_type": "code",
   "execution_count": 126,
   "metadata": {},
   "outputs": [],
   "source": [
    "import xgboost as xgb\n",
    "xgb_model=xgb.XGBClassifier()\n",
    "xgb_model.fit(X_train,y_train)\n",
    "y_pred=xgb_model.predict(X_test)"
   ]
  },
  {
   "cell_type": "code",
   "execution_count": 127,
   "metadata": {},
   "outputs": [
    {
     "name": "stdout",
     "output_type": "stream",
     "text": [
      "train score: 0.7837103199069284\n",
      "test score: 0.7832772190173919\n"
     ]
    }
   ],
   "source": [
    "print('train score:',xgb_model.score(X_train,y_train))\n",
    "print('test score:',xgb_model.score(X_test,y_test))"
   ]
  },
  {
   "cell_type": "code",
   "execution_count": 128,
   "metadata": {},
   "outputs": [
    {
     "name": "stdout",
     "output_type": "stream",
     "text": [
      "train auc score: 0.665655140921071\n",
      "test auc score: 0.6600392828851331\n"
     ]
    }
   ],
   "source": [
    "xgb_train_prob=xgb_model.predict_proba(X_train)[::,-1]\n",
    "xgb_test_prob=xgb_model.predict_proba(X_test)[::,-1]\n",
    "print('train auc score:',roc_auc_score(y_train,xgb_train_prob))\n",
    "print('test auc score:',roc_auc_score(y_test,xgb_test_prob))"
   ]
  },
  {
   "cell_type": "code",
   "execution_count": 129,
   "metadata": {},
   "outputs": [
    {
     "name": "stdout",
     "output_type": "stream",
     "text": [
      "              precision    recall  f1-score   support\n",
      "\n",
      "           0       0.78      1.00      0.88     36499\n",
      "           1       0.67      0.01      0.01     10132\n",
      "\n",
      "    accuracy                           0.78     46631\n",
      "   macro avg       0.73      0.50      0.44     46631\n",
      "weighted avg       0.76      0.78      0.69     46631\n",
      "\n"
     ]
    }
   ],
   "source": [
    "print(classification_report(y_test,y_pred))"
   ]
  },
  {
   "cell_type": "markdown",
   "metadata": {},
   "source": [
    "0.6581952509999056"
   ]
  },
  {
   "cell_type": "markdown",
   "metadata": {},
   "source": [
    "### catboost"
   ]
  },
  {
   "cell_type": "code",
   "execution_count": 130,
   "metadata": {},
   "outputs": [],
   "source": [
    "X=df.drop(['loan_default',\"UniqueID\"],axis=1)\n",
    "y=df['loan_default']\n",
    "from sklearn.model_selection import train_test_split\n",
    "from sklearn.metrics import accuracy_score,f1_score\n",
    "X_train,X_test,y_train,y_test = train_test_split(X,y,test_size=0.2,random_state = 10)\n",
    "cat_cols.remove(\"UniqueID\")"
   ]
  },
  {
   "cell_type": "code",
   "execution_count": 131,
   "metadata": {},
   "outputs": [
    {
     "name": "stdout",
     "output_type": "stream",
     "text": [
      "Learning rate set to 0.073577\n",
      "0:\tlearn: 0.6645076\ttotal: 5.32s\tremaining: 1h 28m 32s\n",
      "1:\tlearn: 0.6408828\ttotal: 5.86s\tremaining: 48m 45s\n",
      "2:\tlearn: 0.6205560\ttotal: 6.39s\tremaining: 35m 23s\n",
      "3:\tlearn: 0.6034406\ttotal: 7s\tremaining: 29m 4s\n",
      "4:\tlearn: 0.5890495\ttotal: 7.48s\tremaining: 24m 47s\n",
      "5:\tlearn: 0.5772374\ttotal: 7.91s\tremaining: 21m 50s\n",
      "6:\tlearn: 0.5670932\ttotal: 8.14s\tremaining: 19m 15s\n",
      "7:\tlearn: 0.5588806\ttotal: 8.31s\tremaining: 17m 11s\n",
      "8:\tlearn: 0.5510302\ttotal: 8.81s\tremaining: 16m 9s\n",
      "9:\tlearn: 0.5445448\ttotal: 9.04s\tremaining: 14m 55s\n",
      "10:\tlearn: 0.5387339\ttotal: 9.48s\tremaining: 14m 12s\n",
      "11:\tlearn: 0.5337914\ttotal: 9.82s\tremaining: 13m 28s\n",
      "12:\tlearn: 0.5296495\ttotal: 10.2s\tremaining: 12m 52s\n",
      "13:\tlearn: 0.5258093\ttotal: 10.4s\tremaining: 12m 12s\n",
      "14:\tlearn: 0.5226930\ttotal: 10.6s\tremaining: 11m 37s\n",
      "15:\tlearn: 0.5198658\ttotal: 10.8s\tremaining: 11m 6s\n",
      "16:\tlearn: 0.5175775\ttotal: 11s\tremaining: 10m 34s\n",
      "17:\tlearn: 0.5153118\ttotal: 11.3s\tremaining: 10m 14s\n",
      "18:\tlearn: 0.5133090\ttotal: 11.5s\tremaining: 9m 52s\n",
      "19:\tlearn: 0.5116148\ttotal: 11.7s\tremaining: 9m 32s\n",
      "20:\tlearn: 0.5100872\ttotal: 11.9s\tremaining: 9m 14s\n",
      "21:\tlearn: 0.5087652\ttotal: 12.2s\tremaining: 9m 2s\n",
      "22:\tlearn: 0.5076253\ttotal: 12.4s\tremaining: 8m 47s\n",
      "23:\tlearn: 0.5064660\ttotal: 12.8s\tremaining: 8m 39s\n",
      "24:\tlearn: 0.5055554\ttotal: 13s\tremaining: 8m 28s\n",
      "25:\tlearn: 0.5047291\ttotal: 13.3s\tremaining: 8m 17s\n",
      "26:\tlearn: 0.5039781\ttotal: 13.5s\tremaining: 8m 5s\n",
      "27:\tlearn: 0.5033569\ttotal: 13.9s\tremaining: 8m 2s\n",
      "28:\tlearn: 0.5027202\ttotal: 14.1s\tremaining: 7m 52s\n",
      "29:\tlearn: 0.5021300\ttotal: 14.4s\tremaining: 7m 44s\n",
      "30:\tlearn: 0.5015764\ttotal: 14.6s\tremaining: 7m 35s\n",
      "31:\tlearn: 0.5012452\ttotal: 14.7s\tremaining: 7m 24s\n",
      "32:\tlearn: 0.5007534\ttotal: 14.9s\tremaining: 7m 17s\n",
      "33:\tlearn: 0.5003495\ttotal: 15.2s\tremaining: 7m 10s\n",
      "34:\tlearn: 0.4999879\ttotal: 15.5s\tremaining: 7m 7s\n",
      "35:\tlearn: 0.4996057\ttotal: 15.7s\tremaining: 7m 1s\n",
      "36:\tlearn: 0.4992328\ttotal: 16s\tremaining: 6m 55s\n",
      "37:\tlearn: 0.4989333\ttotal: 16.2s\tremaining: 6m 50s\n",
      "38:\tlearn: 0.4986437\ttotal: 16.7s\tremaining: 6m 50s\n",
      "39:\tlearn: 0.4983118\ttotal: 16.9s\tremaining: 6m 45s\n",
      "40:\tlearn: 0.4980641\ttotal: 17.1s\tremaining: 6m 40s\n",
      "41:\tlearn: 0.4977974\ttotal: 17.3s\tremaining: 6m 35s\n",
      "42:\tlearn: 0.4975431\ttotal: 17.6s\tremaining: 6m 31s\n",
      "43:\tlearn: 0.4973301\ttotal: 17.8s\tremaining: 6m 27s\n",
      "44:\tlearn: 0.4971215\ttotal: 18.1s\tremaining: 6m 23s\n",
      "45:\tlearn: 0.4969277\ttotal: 18.3s\tremaining: 6m 19s\n",
      "46:\tlearn: 0.4967739\ttotal: 18.5s\tremaining: 6m 15s\n",
      "47:\tlearn: 0.4965957\ttotal: 18.8s\tremaining: 6m 12s\n",
      "48:\tlearn: 0.4963952\ttotal: 19.1s\tremaining: 6m 10s\n",
      "49:\tlearn: 0.4961672\ttotal: 19.4s\tremaining: 6m 8s\n",
      "50:\tlearn: 0.4960046\ttotal: 19.6s\tremaining: 6m 5s\n",
      "51:\tlearn: 0.4958726\ttotal: 20s\tremaining: 6m 3s\n",
      "52:\tlearn: 0.4957127\ttotal: 20.3s\tremaining: 6m 1s\n",
      "53:\tlearn: 0.4955818\ttotal: 20.5s\tremaining: 5m 59s\n",
      "54:\tlearn: 0.4954405\ttotal: 20.8s\tremaining: 5m 56s\n",
      "55:\tlearn: 0.4952924\ttotal: 21s\tremaining: 5m 53s\n",
      "56:\tlearn: 0.4951872\ttotal: 21.2s\tremaining: 5m 50s\n",
      "57:\tlearn: 0.4950559\ttotal: 21.4s\tremaining: 5m 48s\n",
      "58:\tlearn: 0.4949325\ttotal: 21.7s\tremaining: 5m 45s\n",
      "59:\tlearn: 0.4947934\ttotal: 21.9s\tremaining: 5m 42s\n",
      "60:\tlearn: 0.4946818\ttotal: 22.2s\tremaining: 5m 40s\n",
      "61:\tlearn: 0.4945829\ttotal: 22.5s\tremaining: 5m 40s\n",
      "62:\tlearn: 0.4944744\ttotal: 22.7s\tremaining: 5m 37s\n",
      "63:\tlearn: 0.4943000\ttotal: 23s\tremaining: 5m 35s\n",
      "64:\tlearn: 0.4941840\ttotal: 23.2s\tremaining: 5m 33s\n",
      "65:\tlearn: 0.4940807\ttotal: 23.4s\tremaining: 5m 31s\n",
      "66:\tlearn: 0.4939905\ttotal: 23.7s\tremaining: 5m 29s\n",
      "67:\tlearn: 0.4939101\ttotal: 23.9s\tremaining: 5m 27s\n",
      "68:\tlearn: 0.4937966\ttotal: 24.1s\tremaining: 5m 25s\n",
      "69:\tlearn: 0.4936789\ttotal: 24.3s\tremaining: 5m 23s\n",
      "70:\tlearn: 0.4935602\ttotal: 24.6s\tremaining: 5m 21s\n",
      "71:\tlearn: 0.4934638\ttotal: 24.8s\tremaining: 5m 19s\n",
      "72:\tlearn: 0.4933391\ttotal: 25.1s\tremaining: 5m 18s\n",
      "73:\tlearn: 0.4932484\ttotal: 25.4s\tremaining: 5m 17s\n",
      "74:\tlearn: 0.4931158\ttotal: 25.7s\tremaining: 5m 16s\n",
      "75:\tlearn: 0.4930094\ttotal: 26s\tremaining: 5m 16s\n",
      "76:\tlearn: 0.4929259\ttotal: 26.4s\tremaining: 5m 15s\n",
      "77:\tlearn: 0.4928462\ttotal: 26.6s\tremaining: 5m 14s\n",
      "78:\tlearn: 0.4927579\ttotal: 26.9s\tremaining: 5m 13s\n",
      "79:\tlearn: 0.4926901\ttotal: 27.1s\tremaining: 5m 12s\n",
      "80:\tlearn: 0.4926202\ttotal: 27.5s\tremaining: 5m 12s\n",
      "81:\tlearn: 0.4925089\ttotal: 27.8s\tremaining: 5m 11s\n",
      "82:\tlearn: 0.4924461\ttotal: 28s\tremaining: 5m 9s\n",
      "83:\tlearn: 0.4923507\ttotal: 28.3s\tremaining: 5m 8s\n",
      "84:\tlearn: 0.4922955\ttotal: 28.6s\tremaining: 5m 7s\n",
      "85:\tlearn: 0.4921941\ttotal: 28.8s\tremaining: 5m 5s\n",
      "86:\tlearn: 0.4920983\ttotal: 29s\tremaining: 5m 4s\n",
      "87:\tlearn: 0.4920218\ttotal: 29.3s\tremaining: 5m 3s\n",
      "88:\tlearn: 0.4919518\ttotal: 29.6s\tremaining: 5m 2s\n",
      "89:\tlearn: 0.4918789\ttotal: 29.8s\tremaining: 5m\n",
      "90:\tlearn: 0.4918263\ttotal: 30s\tremaining: 4m 59s\n",
      "91:\tlearn: 0.4917590\ttotal: 30.2s\tremaining: 4m 58s\n",
      "92:\tlearn: 0.4916891\ttotal: 30.4s\tremaining: 4m 56s\n",
      "93:\tlearn: 0.4916435\ttotal: 30.7s\tremaining: 4m 55s\n",
      "94:\tlearn: 0.4915971\ttotal: 30.9s\tremaining: 4m 54s\n",
      "95:\tlearn: 0.4915533\ttotal: 31.2s\tremaining: 4m 53s\n",
      "96:\tlearn: 0.4914980\ttotal: 31.5s\tremaining: 4m 53s\n",
      "97:\tlearn: 0.4914143\ttotal: 31.8s\tremaining: 4m 52s\n",
      "98:\tlearn: 0.4913731\ttotal: 32.2s\tremaining: 4m 52s\n",
      "99:\tlearn: 0.4913191\ttotal: 32.6s\tremaining: 4m 53s\n",
      "100:\tlearn: 0.4912754\ttotal: 32.9s\tremaining: 4m 52s\n",
      "101:\tlearn: 0.4912195\ttotal: 33.2s\tremaining: 4m 52s\n",
      "102:\tlearn: 0.4911845\ttotal: 33.4s\tremaining: 4m 50s\n",
      "103:\tlearn: 0.4911342\ttotal: 33.7s\tremaining: 4m 49s\n",
      "104:\tlearn: 0.4910742\ttotal: 33.9s\tremaining: 4m 48s\n",
      "105:\tlearn: 0.4910278\ttotal: 34.1s\tremaining: 4m 47s\n",
      "106:\tlearn: 0.4909663\ttotal: 34.4s\tremaining: 4m 46s\n",
      "107:\tlearn: 0.4909105\ttotal: 34.6s\tremaining: 4m 45s\n",
      "108:\tlearn: 0.4908599\ttotal: 34.8s\tremaining: 4m 44s\n",
      "109:\tlearn: 0.4908032\ttotal: 35.1s\tremaining: 4m 43s\n",
      "110:\tlearn: 0.4907458\ttotal: 35.3s\tremaining: 4m 42s\n",
      "111:\tlearn: 0.4906644\ttotal: 35.6s\tremaining: 4m 42s\n",
      "112:\tlearn: 0.4906153\ttotal: 35.8s\tremaining: 4m 41s\n",
      "113:\tlearn: 0.4905720\ttotal: 36s\tremaining: 4m 39s\n",
      "114:\tlearn: 0.4905135\ttotal: 36.3s\tremaining: 4m 39s\n",
      "115:\tlearn: 0.4904819\ttotal: 36.6s\tremaining: 4m 38s\n",
      "116:\tlearn: 0.4904372\ttotal: 36.8s\tremaining: 4m 38s\n",
      "117:\tlearn: 0.4903984\ttotal: 37s\tremaining: 4m 36s\n",
      "118:\tlearn: 0.4903496\ttotal: 37.3s\tremaining: 4m 36s\n",
      "119:\tlearn: 0.4903001\ttotal: 37.6s\tremaining: 4m 35s\n",
      "120:\tlearn: 0.4902614\ttotal: 37.9s\tremaining: 4m 35s\n",
      "121:\tlearn: 0.4902270\ttotal: 38.2s\tremaining: 4m 35s\n",
      "122:\tlearn: 0.4901847\ttotal: 38.5s\tremaining: 4m 34s\n",
      "123:\tlearn: 0.4901440\ttotal: 38.8s\tremaining: 4m 33s\n",
      "124:\tlearn: 0.4900966\ttotal: 39s\tremaining: 4m 32s\n",
      "125:\tlearn: 0.4900485\ttotal: 39.2s\tremaining: 4m 31s\n",
      "126:\tlearn: 0.4899821\ttotal: 39.5s\tremaining: 4m 31s\n",
      "127:\tlearn: 0.4899508\ttotal: 39.7s\tremaining: 4m 30s\n",
      "128:\tlearn: 0.4899074\ttotal: 39.9s\tremaining: 4m 29s\n",
      "129:\tlearn: 0.4898794\ttotal: 40.1s\tremaining: 4m 28s\n",
      "130:\tlearn: 0.4898149\ttotal: 40.3s\tremaining: 4m 27s\n",
      "131:\tlearn: 0.4897663\ttotal: 40.5s\tremaining: 4m 26s\n",
      "132:\tlearn: 0.4897347\ttotal: 40.8s\tremaining: 4m 25s\n",
      "133:\tlearn: 0.4896842\ttotal: 41s\tremaining: 4m 25s\n",
      "134:\tlearn: 0.4896562\ttotal: 41.3s\tremaining: 4m 24s\n",
      "135:\tlearn: 0.4895981\ttotal: 41.5s\tremaining: 4m 23s\n",
      "136:\tlearn: 0.4895417\ttotal: 41.7s\tremaining: 4m 22s\n",
      "137:\tlearn: 0.4894969\ttotal: 41.9s\tremaining: 4m 21s\n",
      "138:\tlearn: 0.4894523\ttotal: 42.2s\tremaining: 4m 21s\n",
      "139:\tlearn: 0.4894189\ttotal: 42.4s\tremaining: 4m 20s\n",
      "140:\tlearn: 0.4893777\ttotal: 42.8s\tremaining: 4m 20s\n",
      "141:\tlearn: 0.4893425\ttotal: 42.9s\tremaining: 4m 19s\n",
      "142:\tlearn: 0.4892781\ttotal: 43.2s\tremaining: 4m 18s\n",
      "143:\tlearn: 0.4892434\ttotal: 43.5s\tremaining: 4m 18s\n",
      "144:\tlearn: 0.4892193\ttotal: 43.7s\tremaining: 4m 17s\n",
      "145:\tlearn: 0.4891906\ttotal: 44s\tremaining: 4m 17s\n",
      "146:\tlearn: 0.4891522\ttotal: 44.3s\tremaining: 4m 17s\n",
      "147:\tlearn: 0.4891114\ttotal: 44.6s\tremaining: 4m 16s\n",
      "148:\tlearn: 0.4890829\ttotal: 44.8s\tremaining: 4m 16s\n",
      "149:\tlearn: 0.4890210\ttotal: 45s\tremaining: 4m 15s\n",
      "150:\tlearn: 0.4889727\ttotal: 45.3s\tremaining: 4m 14s\n",
      "151:\tlearn: 0.4889413\ttotal: 45.5s\tremaining: 4m 14s\n",
      "152:\tlearn: 0.4889086\ttotal: 45.8s\tremaining: 4m 13s\n",
      "153:\tlearn: 0.4888786\ttotal: 46.1s\tremaining: 4m 13s\n",
      "154:\tlearn: 0.4888288\ttotal: 46.3s\tremaining: 4m 12s\n",
      "155:\tlearn: 0.4887864\ttotal: 46.5s\tremaining: 4m 11s\n",
      "156:\tlearn: 0.4887569\ttotal: 46.7s\tremaining: 4m 10s\n"
     ]
    },
    {
     "name": "stdout",
     "output_type": "stream",
     "text": [
      "157:\tlearn: 0.4887079\ttotal: 46.9s\tremaining: 4m 9s\n",
      "158:\tlearn: 0.4886582\ttotal: 47.1s\tremaining: 4m 9s\n",
      "159:\tlearn: 0.4886302\ttotal: 47.4s\tremaining: 4m 8s\n",
      "160:\tlearn: 0.4885840\ttotal: 47.6s\tremaining: 4m 7s\n",
      "161:\tlearn: 0.4885493\ttotal: 47.8s\tremaining: 4m 7s\n",
      "162:\tlearn: 0.4884831\ttotal: 48s\tremaining: 4m 6s\n",
      "163:\tlearn: 0.4884653\ttotal: 48.3s\tremaining: 4m 6s\n",
      "164:\tlearn: 0.4884076\ttotal: 48.5s\tremaining: 4m 5s\n",
      "165:\tlearn: 0.4883834\ttotal: 48.8s\tremaining: 4m 5s\n",
      "166:\tlearn: 0.4883250\ttotal: 49s\tremaining: 4m 4s\n",
      "167:\tlearn: 0.4882502\ttotal: 49.3s\tremaining: 4m 4s\n",
      "168:\tlearn: 0.4881932\ttotal: 49.5s\tremaining: 4m 3s\n",
      "169:\tlearn: 0.4881264\ttotal: 49.8s\tremaining: 4m 2s\n",
      "170:\tlearn: 0.4880741\ttotal: 50s\tremaining: 4m 2s\n",
      "171:\tlearn: 0.4880331\ttotal: 50.3s\tremaining: 4m 1s\n",
      "172:\tlearn: 0.4879961\ttotal: 50.5s\tremaining: 4m 1s\n",
      "173:\tlearn: 0.4879615\ttotal: 50.8s\tremaining: 4m 1s\n",
      "174:\tlearn: 0.4879329\ttotal: 51s\tremaining: 4m\n",
      "175:\tlearn: 0.4878997\ttotal: 51.3s\tremaining: 4m\n",
      "176:\tlearn: 0.4878419\ttotal: 51.6s\tremaining: 3m 59s\n",
      "177:\tlearn: 0.4877691\ttotal: 51.9s\tremaining: 3m 59s\n",
      "178:\tlearn: 0.4877040\ttotal: 52.2s\tremaining: 3m 59s\n",
      "179:\tlearn: 0.4876721\ttotal: 52.6s\tremaining: 3m 59s\n",
      "180:\tlearn: 0.4876244\ttotal: 52.8s\tremaining: 3m 58s\n",
      "181:\tlearn: 0.4875765\ttotal: 53.1s\tremaining: 3m 58s\n",
      "182:\tlearn: 0.4875185\ttotal: 53.3s\tremaining: 3m 57s\n",
      "183:\tlearn: 0.4874794\ttotal: 53.6s\tremaining: 3m 57s\n",
      "184:\tlearn: 0.4874448\ttotal: 53.8s\tremaining: 3m 57s\n",
      "185:\tlearn: 0.4874214\ttotal: 54.1s\tremaining: 3m 56s\n",
      "186:\tlearn: 0.4873962\ttotal: 54.3s\tremaining: 3m 56s\n",
      "187:\tlearn: 0.4873326\ttotal: 54.6s\tremaining: 3m 55s\n",
      "188:\tlearn: 0.4872622\ttotal: 54.8s\tremaining: 3m 55s\n",
      "189:\tlearn: 0.4872461\ttotal: 55s\tremaining: 3m 54s\n",
      "190:\tlearn: 0.4872217\ttotal: 55.2s\tremaining: 3m 53s\n",
      "191:\tlearn: 0.4871484\ttotal: 55.4s\tremaining: 3m 53s\n",
      "192:\tlearn: 0.4871217\ttotal: 55.7s\tremaining: 3m 52s\n",
      "193:\tlearn: 0.4870756\ttotal: 56s\tremaining: 3m 52s\n",
      "194:\tlearn: 0.4870393\ttotal: 56.2s\tremaining: 3m 52s\n",
      "195:\tlearn: 0.4870215\ttotal: 56.5s\tremaining: 3m 51s\n",
      "196:\tlearn: 0.4869762\ttotal: 56.7s\tremaining: 3m 51s\n",
      "197:\tlearn: 0.4869295\ttotal: 56.9s\tremaining: 3m 50s\n",
      "198:\tlearn: 0.4868859\ttotal: 57.2s\tremaining: 3m 50s\n",
      "199:\tlearn: 0.4868588\ttotal: 57.4s\tremaining: 3m 49s\n",
      "200:\tlearn: 0.4868257\ttotal: 57.7s\tremaining: 3m 49s\n",
      "201:\tlearn: 0.4867999\ttotal: 58s\tremaining: 3m 49s\n",
      "202:\tlearn: 0.4867464\ttotal: 58.3s\tremaining: 3m 49s\n",
      "203:\tlearn: 0.4867095\ttotal: 58.6s\tremaining: 3m 48s\n",
      "204:\tlearn: 0.4866649\ttotal: 58.9s\tremaining: 3m 48s\n",
      "205:\tlearn: 0.4866356\ttotal: 59s\tremaining: 3m 47s\n",
      "206:\tlearn: 0.4865870\ttotal: 59.3s\tremaining: 3m 47s\n",
      "207:\tlearn: 0.4865402\ttotal: 59.5s\tremaining: 3m 46s\n",
      "208:\tlearn: 0.4865174\ttotal: 59.7s\tremaining: 3m 45s\n",
      "209:\tlearn: 0.4864847\ttotal: 59.9s\tremaining: 3m 45s\n",
      "210:\tlearn: 0.4864592\ttotal: 1m\tremaining: 3m 45s\n",
      "211:\tlearn: 0.4864174\ttotal: 1m\tremaining: 3m 44s\n",
      "212:\tlearn: 0.4863878\ttotal: 1m\tremaining: 3m 43s\n",
      "213:\tlearn: 0.4863446\ttotal: 1m\tremaining: 3m 43s\n",
      "214:\tlearn: 0.4863176\ttotal: 1m 1s\tremaining: 3m 43s\n",
      "215:\tlearn: 0.4862764\ttotal: 1m 1s\tremaining: 3m 42s\n",
      "216:\tlearn: 0.4862428\ttotal: 1m 1s\tremaining: 3m 42s\n",
      "217:\tlearn: 0.4862097\ttotal: 1m 1s\tremaining: 3m 41s\n",
      "218:\tlearn: 0.4861663\ttotal: 1m 2s\tremaining: 3m 41s\n",
      "219:\tlearn: 0.4861271\ttotal: 1m 2s\tremaining: 3m 40s\n",
      "220:\tlearn: 0.4860941\ttotal: 1m 2s\tremaining: 3m 40s\n",
      "221:\tlearn: 0.4860631\ttotal: 1m 2s\tremaining: 3m 40s\n",
      "222:\tlearn: 0.4860147\ttotal: 1m 3s\tremaining: 3m 39s\n",
      "223:\tlearn: 0.4859892\ttotal: 1m 3s\tremaining: 3m 39s\n",
      "224:\tlearn: 0.4859430\ttotal: 1m 3s\tremaining: 3m 39s\n",
      "225:\tlearn: 0.4859285\ttotal: 1m 3s\tremaining: 3m 38s\n",
      "226:\tlearn: 0.4858829\ttotal: 1m 4s\tremaining: 3m 38s\n",
      "227:\tlearn: 0.4858389\ttotal: 1m 4s\tremaining: 3m 38s\n",
      "228:\tlearn: 0.4858222\ttotal: 1m 4s\tremaining: 3m 38s\n",
      "229:\tlearn: 0.4857848\ttotal: 1m 5s\tremaining: 3m 37s\n",
      "230:\tlearn: 0.4857450\ttotal: 1m 5s\tremaining: 3m 37s\n",
      "231:\tlearn: 0.4857166\ttotal: 1m 5s\tremaining: 3m 36s\n",
      "232:\tlearn: 0.4856761\ttotal: 1m 5s\tremaining: 3m 36s\n",
      "233:\tlearn: 0.4856398\ttotal: 1m 5s\tremaining: 3m 35s\n",
      "234:\tlearn: 0.4856035\ttotal: 1m 6s\tremaining: 3m 35s\n",
      "235:\tlearn: 0.4855440\ttotal: 1m 6s\tremaining: 3m 34s\n",
      "236:\tlearn: 0.4855131\ttotal: 1m 6s\tremaining: 3m 34s\n",
      "237:\tlearn: 0.4854847\ttotal: 1m 6s\tremaining: 3m 33s\n",
      "238:\tlearn: 0.4854446\ttotal: 1m 7s\tremaining: 3m 33s\n",
      "239:\tlearn: 0.4854044\ttotal: 1m 7s\tremaining: 3m 33s\n",
      "240:\tlearn: 0.4853354\ttotal: 1m 7s\tremaining: 3m 32s\n",
      "241:\tlearn: 0.4853078\ttotal: 1m 7s\tremaining: 3m 32s\n",
      "242:\tlearn: 0.4852707\ttotal: 1m 7s\tremaining: 3m 31s\n",
      "243:\tlearn: 0.4852438\ttotal: 1m 8s\tremaining: 3m 31s\n",
      "244:\tlearn: 0.4852134\ttotal: 1m 8s\tremaining: 3m 30s\n",
      "245:\tlearn: 0.4851786\ttotal: 1m 8s\tremaining: 3m 30s\n",
      "246:\tlearn: 0.4851552\ttotal: 1m 8s\tremaining: 3m 29s\n",
      "247:\tlearn: 0.4851395\ttotal: 1m 9s\tremaining: 3m 29s\n",
      "248:\tlearn: 0.4851084\ttotal: 1m 9s\tremaining: 3m 28s\n",
      "249:\tlearn: 0.4850591\ttotal: 1m 9s\tremaining: 3m 28s\n",
      "250:\tlearn: 0.4850246\ttotal: 1m 9s\tremaining: 3m 28s\n",
      "251:\tlearn: 0.4850022\ttotal: 1m 10s\tremaining: 3m 28s\n",
      "252:\tlearn: 0.4849682\ttotal: 1m 10s\tremaining: 3m 27s\n",
      "253:\tlearn: 0.4849517\ttotal: 1m 10s\tremaining: 3m 27s\n",
      "254:\tlearn: 0.4849181\ttotal: 1m 10s\tremaining: 3m 27s\n",
      "255:\tlearn: 0.4848646\ttotal: 1m 11s\tremaining: 3m 26s\n",
      "256:\tlearn: 0.4848236\ttotal: 1m 11s\tremaining: 3m 26s\n",
      "257:\tlearn: 0.4847969\ttotal: 1m 11s\tremaining: 3m 26s\n",
      "258:\tlearn: 0.4847645\ttotal: 1m 11s\tremaining: 3m 25s\n",
      "259:\tlearn: 0.4847395\ttotal: 1m 12s\tremaining: 3m 25s\n",
      "260:\tlearn: 0.4847157\ttotal: 1m 12s\tremaining: 3m 24s\n",
      "261:\tlearn: 0.4846805\ttotal: 1m 12s\tremaining: 3m 24s\n",
      "262:\tlearn: 0.4846714\ttotal: 1m 12s\tremaining: 3m 24s\n",
      "263:\tlearn: 0.4846494\ttotal: 1m 13s\tremaining: 3m 23s\n",
      "264:\tlearn: 0.4846284\ttotal: 1m 13s\tremaining: 3m 23s\n",
      "265:\tlearn: 0.4845934\ttotal: 1m 13s\tremaining: 3m 22s\n",
      "266:\tlearn: 0.4845728\ttotal: 1m 13s\tremaining: 3m 22s\n",
      "267:\tlearn: 0.4845362\ttotal: 1m 14s\tremaining: 3m 22s\n",
      "268:\tlearn: 0.4845062\ttotal: 1m 14s\tremaining: 3m 21s\n",
      "269:\tlearn: 0.4844730\ttotal: 1m 14s\tremaining: 3m 21s\n",
      "270:\tlearn: 0.4844623\ttotal: 1m 14s\tremaining: 3m 21s\n",
      "271:\tlearn: 0.4844420\ttotal: 1m 15s\tremaining: 3m 20s\n",
      "272:\tlearn: 0.4844134\ttotal: 1m 15s\tremaining: 3m 20s\n",
      "273:\tlearn: 0.4843783\ttotal: 1m 15s\tremaining: 3m 20s\n",
      "274:\tlearn: 0.4843614\ttotal: 1m 15s\tremaining: 3m 19s\n",
      "275:\tlearn: 0.4843325\ttotal: 1m 16s\tremaining: 3m 19s\n",
      "276:\tlearn: 0.4842944\ttotal: 1m 16s\tremaining: 3m 19s\n",
      "277:\tlearn: 0.4842522\ttotal: 1m 16s\tremaining: 3m 19s\n",
      "278:\tlearn: 0.4842309\ttotal: 1m 16s\tremaining: 3m 18s\n",
      "279:\tlearn: 0.4842098\ttotal: 1m 17s\tremaining: 3m 18s\n",
      "280:\tlearn: 0.4841792\ttotal: 1m 17s\tremaining: 3m 18s\n",
      "281:\tlearn: 0.4841532\ttotal: 1m 17s\tremaining: 3m 17s\n",
      "282:\tlearn: 0.4841218\ttotal: 1m 17s\tremaining: 3m 17s\n",
      "283:\tlearn: 0.4841066\ttotal: 1m 18s\tremaining: 3m 17s\n",
      "284:\tlearn: 0.4841008\ttotal: 1m 18s\tremaining: 3m 16s\n",
      "285:\tlearn: 0.4840824\ttotal: 1m 18s\tremaining: 3m 16s\n",
      "286:\tlearn: 0.4840625\ttotal: 1m 18s\tremaining: 3m 15s\n",
      "287:\tlearn: 0.4840273\ttotal: 1m 19s\tremaining: 3m 15s\n",
      "288:\tlearn: 0.4840015\ttotal: 1m 19s\tremaining: 3m 15s\n",
      "289:\tlearn: 0.4839589\ttotal: 1m 19s\tremaining: 3m 14s\n",
      "290:\tlearn: 0.4839302\ttotal: 1m 19s\tremaining: 3m 14s\n",
      "291:\tlearn: 0.4839030\ttotal: 1m 20s\tremaining: 3m 14s\n",
      "292:\tlearn: 0.4838856\ttotal: 1m 20s\tremaining: 3m 13s\n",
      "293:\tlearn: 0.4838761\ttotal: 1m 20s\tremaining: 3m 13s\n",
      "294:\tlearn: 0.4838327\ttotal: 1m 20s\tremaining: 3m 13s\n",
      "295:\tlearn: 0.4838226\ttotal: 1m 20s\tremaining: 3m 12s\n",
      "296:\tlearn: 0.4838070\ttotal: 1m 21s\tremaining: 3m 12s\n",
      "297:\tlearn: 0.4837804\ttotal: 1m 21s\tremaining: 3m 11s\n",
      "298:\tlearn: 0.4837473\ttotal: 1m 21s\tremaining: 3m 11s\n",
      "299:\tlearn: 0.4837206\ttotal: 1m 21s\tremaining: 3m 11s\n",
      "300:\tlearn: 0.4836842\ttotal: 1m 22s\tremaining: 3m 10s\n",
      "301:\tlearn: 0.4836536\ttotal: 1m 22s\tremaining: 3m 10s\n",
      "302:\tlearn: 0.4836430\ttotal: 1m 22s\tremaining: 3m 10s\n",
      "303:\tlearn: 0.4836253\ttotal: 1m 23s\tremaining: 3m 10s\n",
      "304:\tlearn: 0.4835944\ttotal: 1m 23s\tremaining: 3m 9s\n",
      "305:\tlearn: 0.4835481\ttotal: 1m 23s\tremaining: 3m 9s\n",
      "306:\tlearn: 0.4835040\ttotal: 1m 23s\tremaining: 3m 9s\n",
      "307:\tlearn: 0.4834879\ttotal: 1m 24s\tremaining: 3m 8s\n",
      "308:\tlearn: 0.4834774\ttotal: 1m 24s\tremaining: 3m 8s\n",
      "309:\tlearn: 0.4834482\ttotal: 1m 24s\tremaining: 3m 8s\n",
      "310:\tlearn: 0.4834401\ttotal: 1m 24s\tremaining: 3m 7s\n",
      "311:\tlearn: 0.4834032\ttotal: 1m 24s\tremaining: 3m 7s\n"
     ]
    },
    {
     "name": "stdout",
     "output_type": "stream",
     "text": [
      "312:\tlearn: 0.4833717\ttotal: 1m 25s\tremaining: 3m 7s\n",
      "313:\tlearn: 0.4833607\ttotal: 1m 25s\tremaining: 3m 6s\n",
      "314:\tlearn: 0.4833458\ttotal: 1m 25s\tremaining: 3m 6s\n",
      "315:\tlearn: 0.4833102\ttotal: 1m 25s\tremaining: 3m 5s\n",
      "316:\tlearn: 0.4832918\ttotal: 1m 26s\tremaining: 3m 5s\n",
      "317:\tlearn: 0.4832621\ttotal: 1m 26s\tremaining: 3m 5s\n",
      "318:\tlearn: 0.4832210\ttotal: 1m 26s\tremaining: 3m 4s\n",
      "319:\tlearn: 0.4832031\ttotal: 1m 26s\tremaining: 3m 4s\n",
      "320:\tlearn: 0.4831528\ttotal: 1m 27s\tremaining: 3m 4s\n",
      "321:\tlearn: 0.4831346\ttotal: 1m 27s\tremaining: 3m 3s\n",
      "322:\tlearn: 0.4831079\ttotal: 1m 27s\tremaining: 3m 3s\n",
      "323:\tlearn: 0.4830663\ttotal: 1m 27s\tremaining: 3m 3s\n",
      "324:\tlearn: 0.4830310\ttotal: 1m 28s\tremaining: 3m 2s\n",
      "325:\tlearn: 0.4830089\ttotal: 1m 28s\tremaining: 3m 2s\n",
      "326:\tlearn: 0.4829747\ttotal: 1m 28s\tremaining: 3m 2s\n",
      "327:\tlearn: 0.4829466\ttotal: 1m 28s\tremaining: 3m 2s\n",
      "328:\tlearn: 0.4829306\ttotal: 1m 29s\tremaining: 3m 1s\n",
      "329:\tlearn: 0.4829070\ttotal: 1m 29s\tremaining: 3m 1s\n",
      "330:\tlearn: 0.4828754\ttotal: 1m 29s\tremaining: 3m 1s\n",
      "331:\tlearn: 0.4828581\ttotal: 1m 29s\tremaining: 3m\n",
      "332:\tlearn: 0.4828377\ttotal: 1m 30s\tremaining: 3m\n",
      "333:\tlearn: 0.4828121\ttotal: 1m 30s\tremaining: 3m\n",
      "334:\tlearn: 0.4827843\ttotal: 1m 30s\tremaining: 3m\n",
      "335:\tlearn: 0.4827561\ttotal: 1m 30s\tremaining: 2m 59s\n",
      "336:\tlearn: 0.4827220\ttotal: 1m 31s\tremaining: 2m 59s\n",
      "337:\tlearn: 0.4826922\ttotal: 1m 31s\tremaining: 2m 58s\n",
      "338:\tlearn: 0.4826651\ttotal: 1m 31s\tremaining: 2m 58s\n",
      "339:\tlearn: 0.4826330\ttotal: 1m 31s\tremaining: 2m 58s\n",
      "340:\tlearn: 0.4825955\ttotal: 1m 32s\tremaining: 2m 58s\n",
      "341:\tlearn: 0.4825712\ttotal: 1m 32s\tremaining: 2m 57s\n",
      "342:\tlearn: 0.4825616\ttotal: 1m 32s\tremaining: 2m 57s\n",
      "343:\tlearn: 0.4825233\ttotal: 1m 32s\tremaining: 2m 56s\n",
      "344:\tlearn: 0.4824920\ttotal: 1m 33s\tremaining: 2m 56s\n",
      "345:\tlearn: 0.4824526\ttotal: 1m 33s\tremaining: 2m 56s\n",
      "346:\tlearn: 0.4824296\ttotal: 1m 33s\tremaining: 2m 56s\n",
      "347:\tlearn: 0.4824068\ttotal: 1m 33s\tremaining: 2m 55s\n",
      "348:\tlearn: 0.4823977\ttotal: 1m 34s\tremaining: 2m 55s\n",
      "349:\tlearn: 0.4823750\ttotal: 1m 34s\tremaining: 2m 55s\n",
      "350:\tlearn: 0.4823412\ttotal: 1m 34s\tremaining: 2m 54s\n",
      "351:\tlearn: 0.4823115\ttotal: 1m 34s\tremaining: 2m 54s\n",
      "352:\tlearn: 0.4822901\ttotal: 1m 35s\tremaining: 2m 54s\n",
      "353:\tlearn: 0.4822810\ttotal: 1m 35s\tremaining: 2m 54s\n",
      "354:\tlearn: 0.4822696\ttotal: 1m 35s\tremaining: 2m 53s\n",
      "355:\tlearn: 0.4822547\ttotal: 1m 36s\tremaining: 2m 53s\n",
      "356:\tlearn: 0.4822452\ttotal: 1m 36s\tremaining: 2m 53s\n",
      "357:\tlearn: 0.4822187\ttotal: 1m 36s\tremaining: 2m 53s\n",
      "358:\tlearn: 0.4821834\ttotal: 1m 36s\tremaining: 2m 52s\n",
      "359:\tlearn: 0.4821638\ttotal: 1m 36s\tremaining: 2m 52s\n",
      "360:\tlearn: 0.4821374\ttotal: 1m 37s\tremaining: 2m 51s\n",
      "361:\tlearn: 0.4821237\ttotal: 1m 37s\tremaining: 2m 51s\n",
      "362:\tlearn: 0.4821089\ttotal: 1m 37s\tremaining: 2m 51s\n",
      "363:\tlearn: 0.4820732\ttotal: 1m 37s\tremaining: 2m 50s\n",
      "364:\tlearn: 0.4820523\ttotal: 1m 38s\tremaining: 2m 50s\n",
      "365:\tlearn: 0.4820315\ttotal: 1m 38s\tremaining: 2m 50s\n",
      "366:\tlearn: 0.4820161\ttotal: 1m 38s\tremaining: 2m 49s\n",
      "367:\tlearn: 0.4819843\ttotal: 1m 38s\tremaining: 2m 49s\n",
      "368:\tlearn: 0.4819726\ttotal: 1m 38s\tremaining: 2m 49s\n",
      "369:\tlearn: 0.4819453\ttotal: 1m 39s\tremaining: 2m 48s\n",
      "370:\tlearn: 0.4819115\ttotal: 1m 39s\tremaining: 2m 48s\n",
      "371:\tlearn: 0.4818797\ttotal: 1m 39s\tremaining: 2m 48s\n",
      "372:\tlearn: 0.4818619\ttotal: 1m 39s\tremaining: 2m 47s\n",
      "373:\tlearn: 0.4818365\ttotal: 1m 40s\tremaining: 2m 47s\n",
      "374:\tlearn: 0.4818253\ttotal: 1m 40s\tremaining: 2m 47s\n",
      "375:\tlearn: 0.4817824\ttotal: 1m 40s\tremaining: 2m 47s\n",
      "376:\tlearn: 0.4817663\ttotal: 1m 40s\tremaining: 2m 46s\n",
      "377:\tlearn: 0.4817521\ttotal: 1m 41s\tremaining: 2m 46s\n",
      "378:\tlearn: 0.4817190\ttotal: 1m 41s\tremaining: 2m 46s\n",
      "379:\tlearn: 0.4817012\ttotal: 1m 41s\tremaining: 2m 45s\n",
      "380:\tlearn: 0.4816665\ttotal: 1m 41s\tremaining: 2m 45s\n",
      "381:\tlearn: 0.4816461\ttotal: 1m 42s\tremaining: 2m 45s\n",
      "382:\tlearn: 0.4816104\ttotal: 1m 42s\tremaining: 2m 45s\n",
      "383:\tlearn: 0.4815761\ttotal: 1m 42s\tremaining: 2m 44s\n",
      "384:\tlearn: 0.4815506\ttotal: 1m 43s\tremaining: 2m 44s\n",
      "385:\tlearn: 0.4815183\ttotal: 1m 43s\tremaining: 2m 44s\n",
      "386:\tlearn: 0.4815030\ttotal: 1m 43s\tremaining: 2m 43s\n",
      "387:\tlearn: 0.4814838\ttotal: 1m 43s\tremaining: 2m 43s\n",
      "388:\tlearn: 0.4814398\ttotal: 1m 43s\tremaining: 2m 43s\n",
      "389:\tlearn: 0.4814037\ttotal: 1m 44s\tremaining: 2m 42s\n",
      "390:\tlearn: 0.4813584\ttotal: 1m 44s\tremaining: 2m 42s\n",
      "391:\tlearn: 0.4813334\ttotal: 1m 44s\tremaining: 2m 42s\n",
      "392:\tlearn: 0.4813076\ttotal: 1m 44s\tremaining: 2m 42s\n",
      "393:\tlearn: 0.4812825\ttotal: 1m 45s\tremaining: 2m 41s\n",
      "394:\tlearn: 0.4812501\ttotal: 1m 45s\tremaining: 2m 41s\n",
      "395:\tlearn: 0.4812047\ttotal: 1m 45s\tremaining: 2m 41s\n",
      "396:\tlearn: 0.4811857\ttotal: 1m 45s\tremaining: 2m 40s\n",
      "397:\tlearn: 0.4811694\ttotal: 1m 46s\tremaining: 2m 40s\n",
      "398:\tlearn: 0.4811498\ttotal: 1m 46s\tremaining: 2m 40s\n",
      "399:\tlearn: 0.4811292\ttotal: 1m 46s\tremaining: 2m 39s\n",
      "400:\tlearn: 0.4810874\ttotal: 1m 46s\tremaining: 2m 39s\n",
      "401:\tlearn: 0.4810478\ttotal: 1m 47s\tremaining: 2m 39s\n",
      "402:\tlearn: 0.4810348\ttotal: 1m 47s\tremaining: 2m 39s\n",
      "403:\tlearn: 0.4810200\ttotal: 1m 47s\tremaining: 2m 38s\n",
      "404:\tlearn: 0.4810041\ttotal: 1m 47s\tremaining: 2m 38s\n",
      "405:\tlearn: 0.4809831\ttotal: 1m 48s\tremaining: 2m 38s\n",
      "406:\tlearn: 0.4809482\ttotal: 1m 48s\tremaining: 2m 37s\n",
      "407:\tlearn: 0.4809237\ttotal: 1m 48s\tremaining: 2m 37s\n",
      "408:\tlearn: 0.4808898\ttotal: 1m 49s\tremaining: 2m 37s\n",
      "409:\tlearn: 0.4808698\ttotal: 1m 49s\tremaining: 2m 37s\n",
      "410:\tlearn: 0.4808423\ttotal: 1m 49s\tremaining: 2m 36s\n",
      "411:\tlearn: 0.4808179\ttotal: 1m 49s\tremaining: 2m 36s\n",
      "412:\tlearn: 0.4808115\ttotal: 1m 49s\tremaining: 2m 36s\n",
      "413:\tlearn: 0.4807965\ttotal: 1m 50s\tremaining: 2m 35s\n",
      "414:\tlearn: 0.4807830\ttotal: 1m 50s\tremaining: 2m 35s\n",
      "415:\tlearn: 0.4807683\ttotal: 1m 50s\tremaining: 2m 35s\n",
      "416:\tlearn: 0.4807520\ttotal: 1m 50s\tremaining: 2m 34s\n",
      "417:\tlearn: 0.4807209\ttotal: 1m 51s\tremaining: 2m 34s\n",
      "418:\tlearn: 0.4806959\ttotal: 1m 51s\tremaining: 2m 34s\n",
      "419:\tlearn: 0.4806838\ttotal: 1m 51s\tremaining: 2m 34s\n",
      "420:\tlearn: 0.4806582\ttotal: 1m 51s\tremaining: 2m 33s\n",
      "421:\tlearn: 0.4806372\ttotal: 1m 52s\tremaining: 2m 33s\n",
      "422:\tlearn: 0.4806058\ttotal: 1m 52s\tremaining: 2m 33s\n",
      "423:\tlearn: 0.4805830\ttotal: 1m 52s\tremaining: 2m 32s\n",
      "424:\tlearn: 0.4805577\ttotal: 1m 52s\tremaining: 2m 32s\n",
      "425:\tlearn: 0.4805437\ttotal: 1m 52s\tremaining: 2m 32s\n",
      "426:\tlearn: 0.4805344\ttotal: 1m 53s\tremaining: 2m 31s\n",
      "427:\tlearn: 0.4805290\ttotal: 1m 53s\tremaining: 2m 31s\n",
      "428:\tlearn: 0.4805113\ttotal: 1m 53s\tremaining: 2m 31s\n",
      "429:\tlearn: 0.4804706\ttotal: 1m 53s\tremaining: 2m 30s\n",
      "430:\tlearn: 0.4804522\ttotal: 1m 54s\tremaining: 2m 30s\n",
      "431:\tlearn: 0.4804272\ttotal: 1m 54s\tremaining: 2m 30s\n",
      "432:\tlearn: 0.4804058\ttotal: 1m 54s\tremaining: 2m 30s\n",
      "433:\tlearn: 0.4803828\ttotal: 1m 54s\tremaining: 2m 29s\n",
      "434:\tlearn: 0.4803561\ttotal: 1m 55s\tremaining: 2m 29s\n",
      "435:\tlearn: 0.4803366\ttotal: 1m 55s\tremaining: 2m 29s\n",
      "436:\tlearn: 0.4803106\ttotal: 1m 55s\tremaining: 2m 29s\n",
      "437:\tlearn: 0.4802891\ttotal: 1m 56s\tremaining: 2m 28s\n",
      "438:\tlearn: 0.4802524\ttotal: 1m 56s\tremaining: 2m 28s\n",
      "439:\tlearn: 0.4802355\ttotal: 1m 56s\tremaining: 2m 28s\n",
      "440:\tlearn: 0.4802029\ttotal: 1m 56s\tremaining: 2m 27s\n",
      "441:\tlearn: 0.4801905\ttotal: 1m 56s\tremaining: 2m 27s\n",
      "442:\tlearn: 0.4801577\ttotal: 1m 57s\tremaining: 2m 27s\n",
      "443:\tlearn: 0.4801274\ttotal: 1m 57s\tremaining: 2m 26s\n",
      "444:\tlearn: 0.4801156\ttotal: 1m 57s\tremaining: 2m 26s\n",
      "445:\tlearn: 0.4800775\ttotal: 1m 57s\tremaining: 2m 26s\n",
      "446:\tlearn: 0.4800550\ttotal: 1m 57s\tremaining: 2m 25s\n",
      "447:\tlearn: 0.4800227\ttotal: 1m 58s\tremaining: 2m 25s\n",
      "448:\tlearn: 0.4799945\ttotal: 1m 58s\tremaining: 2m 25s\n",
      "449:\tlearn: 0.4799782\ttotal: 1m 58s\tremaining: 2m 25s\n",
      "450:\tlearn: 0.4799583\ttotal: 1m 58s\tremaining: 2m 24s\n",
      "451:\tlearn: 0.4799366\ttotal: 1m 59s\tremaining: 2m 24s\n",
      "452:\tlearn: 0.4798943\ttotal: 1m 59s\tremaining: 2m 24s\n",
      "453:\tlearn: 0.4798707\ttotal: 1m 59s\tremaining: 2m 23s\n",
      "454:\tlearn: 0.4798470\ttotal: 1m 59s\tremaining: 2m 23s\n",
      "455:\tlearn: 0.4798210\ttotal: 2m\tremaining: 2m 23s\n",
      "456:\tlearn: 0.4797812\ttotal: 2m\tremaining: 2m 22s\n",
      "457:\tlearn: 0.4797617\ttotal: 2m\tremaining: 2m 22s\n",
      "458:\tlearn: 0.4797424\ttotal: 2m\tremaining: 2m 22s\n",
      "459:\tlearn: 0.4796962\ttotal: 2m 1s\tremaining: 2m 22s\n",
      "460:\tlearn: 0.4796735\ttotal: 2m 1s\tremaining: 2m 22s\n",
      "461:\tlearn: 0.4796499\ttotal: 2m 1s\tremaining: 2m 21s\n",
      "462:\tlearn: 0.4796325\ttotal: 2m 1s\tremaining: 2m 21s\n",
      "463:\tlearn: 0.4796121\ttotal: 2m 2s\tremaining: 2m 21s\n",
      "464:\tlearn: 0.4795901\ttotal: 2m 2s\tremaining: 2m 20s\n"
     ]
    },
    {
     "name": "stdout",
     "output_type": "stream",
     "text": [
      "465:\tlearn: 0.4795714\ttotal: 2m 2s\tremaining: 2m 20s\n",
      "466:\tlearn: 0.4795473\ttotal: 2m 2s\tremaining: 2m 20s\n",
      "467:\tlearn: 0.4795143\ttotal: 2m 3s\tremaining: 2m 20s\n",
      "468:\tlearn: 0.4794908\ttotal: 2m 3s\tremaining: 2m 19s\n",
      "469:\tlearn: 0.4794814\ttotal: 2m 3s\tremaining: 2m 19s\n",
      "470:\tlearn: 0.4794524\ttotal: 2m 3s\tremaining: 2m 19s\n",
      "471:\tlearn: 0.4794316\ttotal: 2m 4s\tremaining: 2m 18s\n",
      "472:\tlearn: 0.4794076\ttotal: 2m 4s\tremaining: 2m 18s\n",
      "473:\tlearn: 0.4793651\ttotal: 2m 4s\tremaining: 2m 18s\n",
      "474:\tlearn: 0.4793425\ttotal: 2m 4s\tremaining: 2m 17s\n",
      "475:\tlearn: 0.4793335\ttotal: 2m 5s\tremaining: 2m 17s\n",
      "476:\tlearn: 0.4792960\ttotal: 2m 5s\tremaining: 2m 17s\n",
      "477:\tlearn: 0.4792790\ttotal: 2m 5s\tremaining: 2m 17s\n",
      "478:\tlearn: 0.4792488\ttotal: 2m 5s\tremaining: 2m 16s\n",
      "479:\tlearn: 0.4792307\ttotal: 2m 5s\tremaining: 2m 16s\n",
      "480:\tlearn: 0.4792171\ttotal: 2m 6s\tremaining: 2m 16s\n",
      "481:\tlearn: 0.4792058\ttotal: 2m 6s\tremaining: 2m 15s\n",
      "482:\tlearn: 0.4791903\ttotal: 2m 6s\tremaining: 2m 15s\n",
      "483:\tlearn: 0.4791771\ttotal: 2m 7s\tremaining: 2m 15s\n",
      "484:\tlearn: 0.4791690\ttotal: 2m 7s\tremaining: 2m 15s\n",
      "485:\tlearn: 0.4791359\ttotal: 2m 7s\tremaining: 2m 14s\n",
      "486:\tlearn: 0.4791070\ttotal: 2m 7s\tremaining: 2m 14s\n",
      "487:\tlearn: 0.4790884\ttotal: 2m 8s\tremaining: 2m 14s\n",
      "488:\tlearn: 0.4790678\ttotal: 2m 8s\tremaining: 2m 14s\n",
      "489:\tlearn: 0.4790516\ttotal: 2m 8s\tremaining: 2m 13s\n",
      "490:\tlearn: 0.4790310\ttotal: 2m 8s\tremaining: 2m 13s\n",
      "491:\tlearn: 0.4790116\ttotal: 2m 9s\tremaining: 2m 13s\n",
      "492:\tlearn: 0.4789970\ttotal: 2m 9s\tremaining: 2m 12s\n",
      "493:\tlearn: 0.4789456\ttotal: 2m 9s\tremaining: 2m 12s\n",
      "494:\tlearn: 0.4789179\ttotal: 2m 9s\tremaining: 2m 12s\n",
      "495:\tlearn: 0.4788990\ttotal: 2m 9s\tremaining: 2m 12s\n",
      "496:\tlearn: 0.4788748\ttotal: 2m 10s\tremaining: 2m 11s\n",
      "497:\tlearn: 0.4788445\ttotal: 2m 10s\tremaining: 2m 11s\n",
      "498:\tlearn: 0.4788417\ttotal: 2m 10s\tremaining: 2m 11s\n",
      "499:\tlearn: 0.4788194\ttotal: 2m 10s\tremaining: 2m 10s\n",
      "500:\tlearn: 0.4788033\ttotal: 2m 11s\tremaining: 2m 10s\n",
      "501:\tlearn: 0.4787908\ttotal: 2m 11s\tremaining: 2m 10s\n",
      "502:\tlearn: 0.4787762\ttotal: 2m 11s\tremaining: 2m 10s\n",
      "503:\tlearn: 0.4787549\ttotal: 2m 11s\tremaining: 2m 9s\n",
      "504:\tlearn: 0.4787451\ttotal: 2m 12s\tremaining: 2m 9s\n",
      "505:\tlearn: 0.4787179\ttotal: 2m 12s\tremaining: 2m 9s\n",
      "506:\tlearn: 0.4786989\ttotal: 2m 12s\tremaining: 2m 8s\n",
      "507:\tlearn: 0.4786741\ttotal: 2m 12s\tremaining: 2m 8s\n",
      "508:\tlearn: 0.4786514\ttotal: 2m 13s\tremaining: 2m 8s\n",
      "509:\tlearn: 0.4786130\ttotal: 2m 13s\tremaining: 2m 8s\n",
      "510:\tlearn: 0.4785846\ttotal: 2m 13s\tremaining: 2m 7s\n",
      "511:\tlearn: 0.4785524\ttotal: 2m 14s\tremaining: 2m 7s\n",
      "512:\tlearn: 0.4785369\ttotal: 2m 14s\tremaining: 2m 7s\n",
      "513:\tlearn: 0.4785256\ttotal: 2m 14s\tremaining: 2m 7s\n",
      "514:\tlearn: 0.4785096\ttotal: 2m 14s\tremaining: 2m 6s\n",
      "515:\tlearn: 0.4784939\ttotal: 2m 14s\tremaining: 2m 6s\n",
      "516:\tlearn: 0.4784802\ttotal: 2m 15s\tremaining: 2m 6s\n",
      "517:\tlearn: 0.4784676\ttotal: 2m 15s\tremaining: 2m 6s\n",
      "518:\tlearn: 0.4784563\ttotal: 2m 15s\tremaining: 2m 5s\n",
      "519:\tlearn: 0.4784272\ttotal: 2m 15s\tremaining: 2m 5s\n",
      "520:\tlearn: 0.4784080\ttotal: 2m 16s\tremaining: 2m 5s\n",
      "521:\tlearn: 0.4783661\ttotal: 2m 16s\tremaining: 2m 4s\n",
      "522:\tlearn: 0.4783453\ttotal: 2m 16s\tremaining: 2m 4s\n",
      "523:\tlearn: 0.4783053\ttotal: 2m 16s\tremaining: 2m 4s\n",
      "524:\tlearn: 0.4782815\ttotal: 2m 17s\tremaining: 2m 4s\n",
      "525:\tlearn: 0.4782569\ttotal: 2m 17s\tremaining: 2m 3s\n",
      "526:\tlearn: 0.4782330\ttotal: 2m 17s\tremaining: 2m 3s\n",
      "527:\tlearn: 0.4782189\ttotal: 2m 17s\tremaining: 2m 3s\n",
      "528:\tlearn: 0.4781985\ttotal: 2m 18s\tremaining: 2m 3s\n",
      "529:\tlearn: 0.4781810\ttotal: 2m 18s\tremaining: 2m 2s\n",
      "530:\tlearn: 0.4781426\ttotal: 2m 18s\tremaining: 2m 2s\n",
      "531:\tlearn: 0.4781242\ttotal: 2m 18s\tremaining: 2m 2s\n",
      "532:\tlearn: 0.4780830\ttotal: 2m 19s\tremaining: 2m 2s\n",
      "533:\tlearn: 0.4780704\ttotal: 2m 19s\tremaining: 2m 1s\n",
      "534:\tlearn: 0.4780455\ttotal: 2m 19s\tremaining: 2m 1s\n",
      "535:\tlearn: 0.4780350\ttotal: 2m 20s\tremaining: 2m 1s\n",
      "536:\tlearn: 0.4780180\ttotal: 2m 20s\tremaining: 2m 1s\n",
      "537:\tlearn: 0.4779912\ttotal: 2m 20s\tremaining: 2m\n",
      "538:\tlearn: 0.4779800\ttotal: 2m 20s\tremaining: 2m\n",
      "539:\tlearn: 0.4779684\ttotal: 2m 21s\tremaining: 2m\n",
      "540:\tlearn: 0.4779577\ttotal: 2m 21s\tremaining: 1m 59s\n",
      "541:\tlearn: 0.4779525\ttotal: 2m 21s\tremaining: 1m 59s\n",
      "542:\tlearn: 0.4779252\ttotal: 2m 21s\tremaining: 1m 59s\n",
      "543:\tlearn: 0.4779019\ttotal: 2m 22s\tremaining: 1m 59s\n",
      "544:\tlearn: 0.4778885\ttotal: 2m 22s\tremaining: 1m 58s\n",
      "545:\tlearn: 0.4778599\ttotal: 2m 22s\tremaining: 1m 58s\n",
      "546:\tlearn: 0.4778264\ttotal: 2m 22s\tremaining: 1m 58s\n",
      "547:\tlearn: 0.4777989\ttotal: 2m 23s\tremaining: 1m 58s\n",
      "548:\tlearn: 0.4777856\ttotal: 2m 23s\tremaining: 1m 57s\n",
      "549:\tlearn: 0.4777583\ttotal: 2m 23s\tremaining: 1m 57s\n",
      "550:\tlearn: 0.4777294\ttotal: 2m 23s\tremaining: 1m 57s\n",
      "551:\tlearn: 0.4776990\ttotal: 2m 24s\tremaining: 1m 57s\n",
      "552:\tlearn: 0.4776785\ttotal: 2m 24s\tremaining: 1m 56s\n",
      "553:\tlearn: 0.4776502\ttotal: 2m 24s\tremaining: 1m 56s\n",
      "554:\tlearn: 0.4776182\ttotal: 2m 24s\tremaining: 1m 56s\n",
      "555:\tlearn: 0.4775958\ttotal: 2m 25s\tremaining: 1m 55s\n",
      "556:\tlearn: 0.4775817\ttotal: 2m 25s\tremaining: 1m 55s\n",
      "557:\tlearn: 0.4775692\ttotal: 2m 25s\tremaining: 1m 55s\n",
      "558:\tlearn: 0.4775624\ttotal: 2m 26s\tremaining: 1m 55s\n",
      "559:\tlearn: 0.4775315\ttotal: 2m 26s\tremaining: 1m 55s\n",
      "560:\tlearn: 0.4775209\ttotal: 2m 26s\tremaining: 1m 54s\n",
      "561:\tlearn: 0.4775083\ttotal: 2m 26s\tremaining: 1m 54s\n",
      "562:\tlearn: 0.4774808\ttotal: 2m 27s\tremaining: 1m 54s\n",
      "563:\tlearn: 0.4774698\ttotal: 2m 27s\tremaining: 1m 53s\n",
      "564:\tlearn: 0.4774550\ttotal: 2m 27s\tremaining: 1m 53s\n",
      "565:\tlearn: 0.4774363\ttotal: 2m 27s\tremaining: 1m 53s\n",
      "566:\tlearn: 0.4774201\ttotal: 2m 28s\tremaining: 1m 53s\n",
      "567:\tlearn: 0.4773969\ttotal: 2m 28s\tremaining: 1m 52s\n",
      "568:\tlearn: 0.4773766\ttotal: 2m 28s\tremaining: 1m 52s\n",
      "569:\tlearn: 0.4773654\ttotal: 2m 28s\tremaining: 1m 52s\n",
      "570:\tlearn: 0.4773375\ttotal: 2m 28s\tremaining: 1m 51s\n",
      "571:\tlearn: 0.4773112\ttotal: 2m 29s\tremaining: 1m 51s\n",
      "572:\tlearn: 0.4772808\ttotal: 2m 29s\tremaining: 1m 51s\n",
      "573:\tlearn: 0.4772559\ttotal: 2m 29s\tremaining: 1m 51s\n",
      "574:\tlearn: 0.4772279\ttotal: 2m 29s\tremaining: 1m 50s\n",
      "575:\tlearn: 0.4772130\ttotal: 2m 30s\tremaining: 1m 50s\n",
      "576:\tlearn: 0.4771958\ttotal: 2m 30s\tremaining: 1m 50s\n",
      "577:\tlearn: 0.4771613\ttotal: 2m 30s\tremaining: 1m 49s\n",
      "578:\tlearn: 0.4771390\ttotal: 2m 30s\tremaining: 1m 49s\n",
      "579:\tlearn: 0.4771183\ttotal: 2m 31s\tremaining: 1m 49s\n",
      "580:\tlearn: 0.4770954\ttotal: 2m 31s\tremaining: 1m 49s\n",
      "581:\tlearn: 0.4770673\ttotal: 2m 31s\tremaining: 1m 48s\n",
      "582:\tlearn: 0.4770439\ttotal: 2m 32s\tremaining: 1m 48s\n",
      "583:\tlearn: 0.4770299\ttotal: 2m 32s\tremaining: 1m 48s\n",
      "584:\tlearn: 0.4770103\ttotal: 2m 32s\tremaining: 1m 48s\n",
      "585:\tlearn: 0.4769927\ttotal: 2m 32s\tremaining: 1m 47s\n",
      "586:\tlearn: 0.4769638\ttotal: 2m 33s\tremaining: 1m 47s\n",
      "587:\tlearn: 0.4769487\ttotal: 2m 33s\tremaining: 1m 47s\n",
      "588:\tlearn: 0.4769317\ttotal: 2m 33s\tremaining: 1m 47s\n",
      "589:\tlearn: 0.4769031\ttotal: 2m 33s\tremaining: 1m 46s\n",
      "590:\tlearn: 0.4768895\ttotal: 2m 33s\tremaining: 1m 46s\n",
      "591:\tlearn: 0.4768835\ttotal: 2m 34s\tremaining: 1m 46s\n",
      "592:\tlearn: 0.4768505\ttotal: 2m 34s\tremaining: 1m 45s\n",
      "593:\tlearn: 0.4768207\ttotal: 2m 34s\tremaining: 1m 45s\n",
      "594:\tlearn: 0.4768016\ttotal: 2m 34s\tremaining: 1m 45s\n",
      "595:\tlearn: 0.4767801\ttotal: 2m 35s\tremaining: 1m 45s\n",
      "596:\tlearn: 0.4767617\ttotal: 2m 35s\tremaining: 1m 44s\n",
      "597:\tlearn: 0.4767478\ttotal: 2m 35s\tremaining: 1m 44s\n",
      "598:\tlearn: 0.4767223\ttotal: 2m 35s\tremaining: 1m 44s\n",
      "599:\tlearn: 0.4766905\ttotal: 2m 36s\tremaining: 1m 44s\n",
      "600:\tlearn: 0.4766818\ttotal: 2m 36s\tremaining: 1m 43s\n",
      "601:\tlearn: 0.4766664\ttotal: 2m 36s\tremaining: 1m 43s\n",
      "602:\tlearn: 0.4766542\ttotal: 2m 36s\tremaining: 1m 43s\n",
      "603:\tlearn: 0.4766222\ttotal: 2m 37s\tremaining: 1m 43s\n",
      "604:\tlearn: 0.4766027\ttotal: 2m 37s\tremaining: 1m 42s\n",
      "605:\tlearn: 0.4765920\ttotal: 2m 37s\tremaining: 1m 42s\n",
      "606:\tlearn: 0.4765659\ttotal: 2m 38s\tremaining: 1m 42s\n",
      "607:\tlearn: 0.4765370\ttotal: 2m 38s\tremaining: 1m 42s\n",
      "608:\tlearn: 0.4765262\ttotal: 2m 38s\tremaining: 1m 41s\n",
      "609:\tlearn: 0.4765036\ttotal: 2m 38s\tremaining: 1m 41s\n",
      "610:\tlearn: 0.4764927\ttotal: 2m 38s\tremaining: 1m 41s\n",
      "611:\tlearn: 0.4764772\ttotal: 2m 39s\tremaining: 1m 40s\n",
      "612:\tlearn: 0.4764549\ttotal: 2m 39s\tremaining: 1m 40s\n",
      "613:\tlearn: 0.4764257\ttotal: 2m 39s\tremaining: 1m 40s\n",
      "614:\tlearn: 0.4764046\ttotal: 2m 39s\tremaining: 1m 40s\n",
      "615:\tlearn: 0.4763970\ttotal: 2m 40s\tremaining: 1m 39s\n",
      "616:\tlearn: 0.4763813\ttotal: 2m 40s\tremaining: 1m 39s\n",
      "617:\tlearn: 0.4763556\ttotal: 2m 40s\tremaining: 1m 39s\n",
      "618:\tlearn: 0.4763332\ttotal: 2m 40s\tremaining: 1m 39s\n"
     ]
    },
    {
     "name": "stdout",
     "output_type": "stream",
     "text": [
      "619:\tlearn: 0.4763185\ttotal: 2m 41s\tremaining: 1m 38s\n",
      "620:\tlearn: 0.4762806\ttotal: 2m 41s\tremaining: 1m 38s\n",
      "621:\tlearn: 0.4762629\ttotal: 2m 41s\tremaining: 1m 38s\n",
      "622:\tlearn: 0.4762449\ttotal: 2m 41s\tremaining: 1m 37s\n",
      "623:\tlearn: 0.4762256\ttotal: 2m 42s\tremaining: 1m 37s\n",
      "624:\tlearn: 0.4762049\ttotal: 2m 42s\tremaining: 1m 37s\n",
      "625:\tlearn: 0.4761740\ttotal: 2m 42s\tremaining: 1m 37s\n",
      "626:\tlearn: 0.4761594\ttotal: 2m 42s\tremaining: 1m 36s\n",
      "627:\tlearn: 0.4761537\ttotal: 2m 43s\tremaining: 1m 36s\n",
      "628:\tlearn: 0.4761419\ttotal: 2m 43s\tremaining: 1m 36s\n",
      "629:\tlearn: 0.4760984\ttotal: 2m 43s\tremaining: 1m 36s\n",
      "630:\tlearn: 0.4760779\ttotal: 2m 43s\tremaining: 1m 35s\n",
      "631:\tlearn: 0.4760454\ttotal: 2m 44s\tremaining: 1m 35s\n",
      "632:\tlearn: 0.4760349\ttotal: 2m 44s\tremaining: 1m 35s\n",
      "633:\tlearn: 0.4760149\ttotal: 2m 44s\tremaining: 1m 35s\n",
      "634:\tlearn: 0.4760007\ttotal: 2m 44s\tremaining: 1m 34s\n",
      "635:\tlearn: 0.4759807\ttotal: 2m 45s\tremaining: 1m 34s\n",
      "636:\tlearn: 0.4759765\ttotal: 2m 45s\tremaining: 1m 34s\n",
      "637:\tlearn: 0.4759546\ttotal: 2m 45s\tremaining: 1m 33s\n",
      "638:\tlearn: 0.4759406\ttotal: 2m 45s\tremaining: 1m 33s\n",
      "639:\tlearn: 0.4759251\ttotal: 2m 46s\tremaining: 1m 33s\n",
      "640:\tlearn: 0.4758958\ttotal: 2m 46s\tremaining: 1m 33s\n",
      "641:\tlearn: 0.4758858\ttotal: 2m 46s\tremaining: 1m 32s\n",
      "642:\tlearn: 0.4758750\ttotal: 2m 46s\tremaining: 1m 32s\n",
      "643:\tlearn: 0.4758553\ttotal: 2m 47s\tremaining: 1m 32s\n",
      "644:\tlearn: 0.4758389\ttotal: 2m 47s\tremaining: 1m 32s\n",
      "645:\tlearn: 0.4758262\ttotal: 2m 47s\tremaining: 1m 31s\n",
      "646:\tlearn: 0.4758110\ttotal: 2m 47s\tremaining: 1m 31s\n",
      "647:\tlearn: 0.4758036\ttotal: 2m 48s\tremaining: 1m 31s\n",
      "648:\tlearn: 0.4757661\ttotal: 2m 48s\tremaining: 1m 31s\n",
      "649:\tlearn: 0.4757571\ttotal: 2m 48s\tremaining: 1m 30s\n",
      "650:\tlearn: 0.4757270\ttotal: 2m 48s\tremaining: 1m 30s\n",
      "651:\tlearn: 0.4756906\ttotal: 2m 49s\tremaining: 1m 30s\n",
      "652:\tlearn: 0.4756608\ttotal: 2m 49s\tremaining: 1m 30s\n",
      "653:\tlearn: 0.4756471\ttotal: 2m 49s\tremaining: 1m 29s\n",
      "654:\tlearn: 0.4756106\ttotal: 2m 50s\tremaining: 1m 29s\n",
      "655:\tlearn: 0.4755973\ttotal: 2m 50s\tremaining: 1m 29s\n",
      "656:\tlearn: 0.4755789\ttotal: 2m 50s\tremaining: 1m 29s\n",
      "657:\tlearn: 0.4755551\ttotal: 2m 50s\tremaining: 1m 28s\n",
      "658:\tlearn: 0.4755296\ttotal: 2m 51s\tremaining: 1m 28s\n",
      "659:\tlearn: 0.4755248\ttotal: 2m 51s\tremaining: 1m 28s\n",
      "660:\tlearn: 0.4755110\ttotal: 2m 51s\tremaining: 1m 28s\n",
      "661:\tlearn: 0.4754733\ttotal: 2m 51s\tremaining: 1m 27s\n",
      "662:\tlearn: 0.4754549\ttotal: 2m 52s\tremaining: 1m 27s\n",
      "663:\tlearn: 0.4754383\ttotal: 2m 52s\tremaining: 1m 27s\n",
      "664:\tlearn: 0.4754171\ttotal: 2m 52s\tremaining: 1m 26s\n",
      "665:\tlearn: 0.4753865\ttotal: 2m 52s\tremaining: 1m 26s\n",
      "666:\tlearn: 0.4753552\ttotal: 2m 53s\tremaining: 1m 26s\n",
      "667:\tlearn: 0.4753442\ttotal: 2m 53s\tremaining: 1m 26s\n",
      "668:\tlearn: 0.4753339\ttotal: 2m 53s\tremaining: 1m 25s\n",
      "669:\tlearn: 0.4753030\ttotal: 2m 53s\tremaining: 1m 25s\n",
      "670:\tlearn: 0.4752815\ttotal: 2m 54s\tremaining: 1m 25s\n",
      "671:\tlearn: 0.4752488\ttotal: 2m 54s\tremaining: 1m 25s\n",
      "672:\tlearn: 0.4752288\ttotal: 2m 54s\tremaining: 1m 24s\n",
      "673:\tlearn: 0.4752131\ttotal: 2m 54s\tremaining: 1m 24s\n",
      "674:\tlearn: 0.4751929\ttotal: 2m 55s\tremaining: 1m 24s\n",
      "675:\tlearn: 0.4751622\ttotal: 2m 55s\tremaining: 1m 24s\n",
      "676:\tlearn: 0.4751275\ttotal: 2m 55s\tremaining: 1m 23s\n",
      "677:\tlearn: 0.4751010\ttotal: 2m 56s\tremaining: 1m 23s\n",
      "678:\tlearn: 0.4750708\ttotal: 2m 56s\tremaining: 1m 23s\n",
      "679:\tlearn: 0.4750404\ttotal: 2m 56s\tremaining: 1m 23s\n",
      "680:\tlearn: 0.4749977\ttotal: 2m 56s\tremaining: 1m 22s\n",
      "681:\tlearn: 0.4749829\ttotal: 2m 57s\tremaining: 1m 22s\n",
      "682:\tlearn: 0.4749453\ttotal: 2m 57s\tremaining: 1m 22s\n",
      "683:\tlearn: 0.4749140\ttotal: 2m 57s\tremaining: 1m 22s\n",
      "684:\tlearn: 0.4748757\ttotal: 2m 57s\tremaining: 1m 21s\n",
      "685:\tlearn: 0.4748681\ttotal: 2m 58s\tremaining: 1m 21s\n",
      "686:\tlearn: 0.4748565\ttotal: 2m 58s\tremaining: 1m 21s\n",
      "687:\tlearn: 0.4748403\ttotal: 2m 58s\tremaining: 1m 21s\n",
      "688:\tlearn: 0.4748192\ttotal: 2m 58s\tremaining: 1m 20s\n",
      "689:\tlearn: 0.4747855\ttotal: 2m 59s\tremaining: 1m 20s\n",
      "690:\tlearn: 0.4747706\ttotal: 2m 59s\tremaining: 1m 20s\n",
      "691:\tlearn: 0.4747423\ttotal: 2m 59s\tremaining: 1m 19s\n",
      "692:\tlearn: 0.4747311\ttotal: 2m 59s\tremaining: 1m 19s\n",
      "693:\tlearn: 0.4747108\ttotal: 3m\tremaining: 1m 19s\n",
      "694:\tlearn: 0.4746870\ttotal: 3m\tremaining: 1m 19s\n",
      "695:\tlearn: 0.4746764\ttotal: 3m\tremaining: 1m 18s\n",
      "696:\tlearn: 0.4746436\ttotal: 3m\tremaining: 1m 18s\n",
      "697:\tlearn: 0.4746167\ttotal: 3m 1s\tremaining: 1m 18s\n",
      "698:\tlearn: 0.4745887\ttotal: 3m 1s\tremaining: 1m 18s\n",
      "699:\tlearn: 0.4745648\ttotal: 3m 1s\tremaining: 1m 17s\n",
      "700:\tlearn: 0.4745520\ttotal: 3m 2s\tremaining: 1m 17s\n",
      "701:\tlearn: 0.4745378\ttotal: 3m 2s\tremaining: 1m 17s\n",
      "702:\tlearn: 0.4745228\ttotal: 3m 2s\tremaining: 1m 17s\n",
      "703:\tlearn: 0.4744974\ttotal: 3m 2s\tremaining: 1m 16s\n",
      "704:\tlearn: 0.4744638\ttotal: 3m 3s\tremaining: 1m 16s\n",
      "705:\tlearn: 0.4744462\ttotal: 3m 3s\tremaining: 1m 16s\n",
      "706:\tlearn: 0.4744354\ttotal: 3m 3s\tremaining: 1m 16s\n",
      "707:\tlearn: 0.4744252\ttotal: 3m 3s\tremaining: 1m 15s\n",
      "708:\tlearn: 0.4744089\ttotal: 3m 4s\tremaining: 1m 15s\n",
      "709:\tlearn: 0.4743874\ttotal: 3m 4s\tremaining: 1m 15s\n",
      "710:\tlearn: 0.4743733\ttotal: 3m 4s\tremaining: 1m 15s\n",
      "711:\tlearn: 0.4743592\ttotal: 3m 4s\tremaining: 1m 14s\n",
      "712:\tlearn: 0.4743307\ttotal: 3m 5s\tremaining: 1m 14s\n",
      "713:\tlearn: 0.4743155\ttotal: 3m 5s\tremaining: 1m 14s\n",
      "714:\tlearn: 0.4742967\ttotal: 3m 5s\tremaining: 1m 13s\n",
      "715:\tlearn: 0.4742861\ttotal: 3m 5s\tremaining: 1m 13s\n",
      "716:\tlearn: 0.4742679\ttotal: 3m 5s\tremaining: 1m 13s\n",
      "717:\tlearn: 0.4742430\ttotal: 3m 6s\tremaining: 1m 13s\n",
      "718:\tlearn: 0.4742249\ttotal: 3m 6s\tremaining: 1m 12s\n",
      "719:\tlearn: 0.4741963\ttotal: 3m 6s\tremaining: 1m 12s\n",
      "720:\tlearn: 0.4741797\ttotal: 3m 6s\tremaining: 1m 12s\n",
      "721:\tlearn: 0.4741702\ttotal: 3m 7s\tremaining: 1m 12s\n",
      "722:\tlearn: 0.4741612\ttotal: 3m 7s\tremaining: 1m 11s\n",
      "723:\tlearn: 0.4741457\ttotal: 3m 7s\tremaining: 1m 11s\n",
      "724:\tlearn: 0.4741382\ttotal: 3m 8s\tremaining: 1m 11s\n",
      "725:\tlearn: 0.4741270\ttotal: 3m 8s\tremaining: 1m 11s\n",
      "726:\tlearn: 0.4741085\ttotal: 3m 8s\tremaining: 1m 10s\n",
      "727:\tlearn: 0.4740889\ttotal: 3m 8s\tremaining: 1m 10s\n",
      "728:\tlearn: 0.4740778\ttotal: 3m 9s\tremaining: 1m 10s\n",
      "729:\tlearn: 0.4740574\ttotal: 3m 9s\tremaining: 1m 10s\n",
      "730:\tlearn: 0.4740247\ttotal: 3m 9s\tremaining: 1m 9s\n",
      "731:\tlearn: 0.4740090\ttotal: 3m 9s\tremaining: 1m 9s\n",
      "732:\tlearn: 0.4739876\ttotal: 3m 10s\tremaining: 1m 9s\n",
      "733:\tlearn: 0.4739676\ttotal: 3m 10s\tremaining: 1m 8s\n",
      "734:\tlearn: 0.4739560\ttotal: 3m 10s\tremaining: 1m 8s\n",
      "735:\tlearn: 0.4739299\ttotal: 3m 10s\tremaining: 1m 8s\n",
      "736:\tlearn: 0.4739164\ttotal: 3m 10s\tremaining: 1m 8s\n",
      "737:\tlearn: 0.4739005\ttotal: 3m 11s\tremaining: 1m 7s\n",
      "738:\tlearn: 0.4738923\ttotal: 3m 11s\tremaining: 1m 7s\n",
      "739:\tlearn: 0.4738709\ttotal: 3m 11s\tremaining: 1m 7s\n",
      "740:\tlearn: 0.4738601\ttotal: 3m 11s\tremaining: 1m 7s\n",
      "741:\tlearn: 0.4738441\ttotal: 3m 11s\tremaining: 1m 6s\n",
      "742:\tlearn: 0.4738268\ttotal: 3m 12s\tremaining: 1m 6s\n",
      "743:\tlearn: 0.4738174\ttotal: 3m 12s\tremaining: 1m 6s\n",
      "744:\tlearn: 0.4738092\ttotal: 3m 12s\tremaining: 1m 5s\n",
      "745:\tlearn: 0.4737732\ttotal: 3m 12s\tremaining: 1m 5s\n",
      "746:\tlearn: 0.4737495\ttotal: 3m 13s\tremaining: 1m 5s\n",
      "747:\tlearn: 0.4737203\ttotal: 3m 13s\tremaining: 1m 5s\n",
      "748:\tlearn: 0.4736931\ttotal: 3m 13s\tremaining: 1m 4s\n",
      "749:\tlearn: 0.4736695\ttotal: 3m 13s\tremaining: 1m 4s\n",
      "750:\tlearn: 0.4736472\ttotal: 3m 14s\tremaining: 1m 4s\n",
      "751:\tlearn: 0.4736281\ttotal: 3m 14s\tremaining: 1m 4s\n",
      "752:\tlearn: 0.4735995\ttotal: 3m 14s\tremaining: 1m 3s\n",
      "753:\tlearn: 0.4735729\ttotal: 3m 15s\tremaining: 1m 3s\n",
      "754:\tlearn: 0.4735590\ttotal: 3m 15s\tremaining: 1m 3s\n",
      "755:\tlearn: 0.4735379\ttotal: 3m 15s\tremaining: 1m 3s\n",
      "756:\tlearn: 0.4735182\ttotal: 3m 15s\tremaining: 1m 2s\n",
      "757:\tlearn: 0.4734939\ttotal: 3m 15s\tremaining: 1m 2s\n",
      "758:\tlearn: 0.4734590\ttotal: 3m 16s\tremaining: 1m 2s\n",
      "759:\tlearn: 0.4734355\ttotal: 3m 16s\tremaining: 1m 2s\n",
      "760:\tlearn: 0.4734167\ttotal: 3m 16s\tremaining: 1m 1s\n",
      "761:\tlearn: 0.4733917\ttotal: 3m 16s\tremaining: 1m 1s\n",
      "762:\tlearn: 0.4733819\ttotal: 3m 17s\tremaining: 1m 1s\n",
      "763:\tlearn: 0.4733578\ttotal: 3m 17s\tremaining: 1m\n",
      "764:\tlearn: 0.4733397\ttotal: 3m 17s\tremaining: 1m\n",
      "765:\tlearn: 0.4733173\ttotal: 3m 17s\tremaining: 1m\n",
      "766:\tlearn: 0.4733033\ttotal: 3m 18s\tremaining: 1m\n",
      "767:\tlearn: 0.4732917\ttotal: 3m 18s\tremaining: 59.9s\n",
      "768:\tlearn: 0.4732642\ttotal: 3m 18s\tremaining: 59.7s\n",
      "769:\tlearn: 0.4732288\ttotal: 3m 18s\tremaining: 59.4s\n",
      "770:\tlearn: 0.4732106\ttotal: 3m 19s\tremaining: 59.1s\n",
      "771:\tlearn: 0.4731844\ttotal: 3m 19s\tremaining: 58.9s\n",
      "772:\tlearn: 0.4731726\ttotal: 3m 19s\tremaining: 58.6s\n"
     ]
    },
    {
     "name": "stdout",
     "output_type": "stream",
     "text": [
      "773:\tlearn: 0.4731432\ttotal: 3m 19s\tremaining: 58.4s\n",
      "774:\tlearn: 0.4731153\ttotal: 3m 20s\tremaining: 58.1s\n",
      "775:\tlearn: 0.4730848\ttotal: 3m 20s\tremaining: 57.9s\n",
      "776:\tlearn: 0.4730698\ttotal: 3m 20s\tremaining: 57.6s\n",
      "777:\tlearn: 0.4730591\ttotal: 3m 21s\tremaining: 57.4s\n",
      "778:\tlearn: 0.4730383\ttotal: 3m 21s\tremaining: 57.1s\n",
      "779:\tlearn: 0.4730248\ttotal: 3m 21s\tremaining: 56.9s\n",
      "780:\tlearn: 0.4729970\ttotal: 3m 21s\tremaining: 56.6s\n",
      "781:\tlearn: 0.4729588\ttotal: 3m 22s\tremaining: 56.3s\n",
      "782:\tlearn: 0.4729460\ttotal: 3m 22s\tremaining: 56.1s\n",
      "783:\tlearn: 0.4729333\ttotal: 3m 22s\tremaining: 55.8s\n",
      "784:\tlearn: 0.4729127\ttotal: 3m 22s\tremaining: 55.5s\n",
      "785:\tlearn: 0.4728975\ttotal: 3m 23s\tremaining: 55.3s\n",
      "786:\tlearn: 0.4728819\ttotal: 3m 23s\tremaining: 55s\n",
      "787:\tlearn: 0.4728605\ttotal: 3m 23s\tremaining: 54.8s\n",
      "788:\tlearn: 0.4728461\ttotal: 3m 23s\tremaining: 54.5s\n",
      "789:\tlearn: 0.4728387\ttotal: 3m 24s\tremaining: 54.2s\n",
      "790:\tlearn: 0.4728173\ttotal: 3m 24s\tremaining: 54s\n",
      "791:\tlearn: 0.4727839\ttotal: 3m 24s\tremaining: 53.7s\n",
      "792:\tlearn: 0.4727731\ttotal: 3m 24s\tremaining: 53.4s\n",
      "793:\tlearn: 0.4727638\ttotal: 3m 24s\tremaining: 53.2s\n",
      "794:\tlearn: 0.4727559\ttotal: 3m 25s\tremaining: 52.9s\n",
      "795:\tlearn: 0.4727513\ttotal: 3m 25s\tremaining: 52.6s\n",
      "796:\tlearn: 0.4727276\ttotal: 3m 25s\tremaining: 52.4s\n",
      "797:\tlearn: 0.4727052\ttotal: 3m 25s\tremaining: 52.1s\n",
      "798:\tlearn: 0.4726821\ttotal: 3m 26s\tremaining: 51.8s\n",
      "799:\tlearn: 0.4726524\ttotal: 3m 26s\tremaining: 51.6s\n",
      "800:\tlearn: 0.4726443\ttotal: 3m 26s\tremaining: 51.3s\n",
      "801:\tlearn: 0.4726202\ttotal: 3m 26s\tremaining: 51.1s\n",
      "802:\tlearn: 0.4725819\ttotal: 3m 27s\tremaining: 50.8s\n",
      "803:\tlearn: 0.4725588\ttotal: 3m 27s\tremaining: 50.6s\n",
      "804:\tlearn: 0.4725417\ttotal: 3m 27s\tremaining: 50.3s\n",
      "805:\tlearn: 0.4725253\ttotal: 3m 27s\tremaining: 50s\n",
      "806:\tlearn: 0.4725077\ttotal: 3m 28s\tremaining: 49.8s\n",
      "807:\tlearn: 0.4724939\ttotal: 3m 28s\tremaining: 49.5s\n",
      "808:\tlearn: 0.4724594\ttotal: 3m 28s\tremaining: 49.2s\n",
      "809:\tlearn: 0.4724419\ttotal: 3m 28s\tremaining: 49s\n",
      "810:\tlearn: 0.4724276\ttotal: 3m 29s\tremaining: 48.7s\n",
      "811:\tlearn: 0.4724071\ttotal: 3m 29s\tremaining: 48.4s\n",
      "812:\tlearn: 0.4723814\ttotal: 3m 29s\tremaining: 48.2s\n",
      "813:\tlearn: 0.4723486\ttotal: 3m 29s\tremaining: 47.9s\n",
      "814:\tlearn: 0.4723283\ttotal: 3m 29s\tremaining: 47.7s\n",
      "815:\tlearn: 0.4722971\ttotal: 3m 30s\tremaining: 47.4s\n",
      "816:\tlearn: 0.4722881\ttotal: 3m 30s\tremaining: 47.1s\n",
      "817:\tlearn: 0.4722770\ttotal: 3m 30s\tremaining: 46.9s\n",
      "818:\tlearn: 0.4722562\ttotal: 3m 30s\tremaining: 46.6s\n",
      "819:\tlearn: 0.4722430\ttotal: 3m 31s\tremaining: 46.4s\n",
      "820:\tlearn: 0.4722279\ttotal: 3m 31s\tremaining: 46.1s\n",
      "821:\tlearn: 0.4722170\ttotal: 3m 31s\tremaining: 45.9s\n",
      "822:\tlearn: 0.4722026\ttotal: 3m 31s\tremaining: 45.6s\n",
      "823:\tlearn: 0.4721854\ttotal: 3m 32s\tremaining: 45.3s\n",
      "824:\tlearn: 0.4721642\ttotal: 3m 32s\tremaining: 45.1s\n",
      "825:\tlearn: 0.4721488\ttotal: 3m 32s\tremaining: 44.8s\n",
      "826:\tlearn: 0.4721303\ttotal: 3m 32s\tremaining: 44.6s\n",
      "827:\tlearn: 0.4721187\ttotal: 3m 33s\tremaining: 44.3s\n",
      "828:\tlearn: 0.4721093\ttotal: 3m 33s\tremaining: 44s\n",
      "829:\tlearn: 0.4721004\ttotal: 3m 33s\tremaining: 43.8s\n",
      "830:\tlearn: 0.4720811\ttotal: 3m 33s\tremaining: 43.5s\n",
      "831:\tlearn: 0.4720734\ttotal: 3m 34s\tremaining: 43.2s\n",
      "832:\tlearn: 0.4720560\ttotal: 3m 34s\tremaining: 43s\n",
      "833:\tlearn: 0.4720345\ttotal: 3m 34s\tremaining: 42.7s\n",
      "834:\tlearn: 0.4720107\ttotal: 3m 34s\tremaining: 42.5s\n",
      "835:\tlearn: 0.4720026\ttotal: 3m 35s\tremaining: 42.2s\n",
      "836:\tlearn: 0.4719842\ttotal: 3m 35s\tremaining: 41.9s\n",
      "837:\tlearn: 0.4719734\ttotal: 3m 35s\tremaining: 41.7s\n",
      "838:\tlearn: 0.4719604\ttotal: 3m 35s\tremaining: 41.4s\n",
      "839:\tlearn: 0.4719418\ttotal: 3m 35s\tremaining: 41.1s\n",
      "840:\tlearn: 0.4719234\ttotal: 3m 36s\tremaining: 40.9s\n",
      "841:\tlearn: 0.4719051\ttotal: 3m 36s\tremaining: 40.6s\n",
      "842:\tlearn: 0.4718924\ttotal: 3m 36s\tremaining: 40.3s\n",
      "843:\tlearn: 0.4718832\ttotal: 3m 36s\tremaining: 40.1s\n",
      "844:\tlearn: 0.4718607\ttotal: 3m 37s\tremaining: 39.8s\n",
      "845:\tlearn: 0.4718382\ttotal: 3m 37s\tremaining: 39.6s\n",
      "846:\tlearn: 0.4718207\ttotal: 3m 37s\tremaining: 39.3s\n",
      "847:\tlearn: 0.4718055\ttotal: 3m 37s\tremaining: 39.1s\n",
      "848:\tlearn: 0.4718017\ttotal: 3m 38s\tremaining: 38.8s\n",
      "849:\tlearn: 0.4717762\ttotal: 3m 38s\tremaining: 38.5s\n",
      "850:\tlearn: 0.4717426\ttotal: 3m 38s\tremaining: 38.3s\n",
      "851:\tlearn: 0.4717305\ttotal: 3m 38s\tremaining: 38s\n",
      "852:\tlearn: 0.4717108\ttotal: 3m 39s\tremaining: 37.8s\n",
      "853:\tlearn: 0.4716942\ttotal: 3m 39s\tremaining: 37.5s\n",
      "854:\tlearn: 0.4716802\ttotal: 3m 39s\tremaining: 37.3s\n",
      "855:\tlearn: 0.4716519\ttotal: 3m 39s\tremaining: 37s\n",
      "856:\tlearn: 0.4716444\ttotal: 3m 40s\tremaining: 36.7s\n",
      "857:\tlearn: 0.4716192\ttotal: 3m 40s\tremaining: 36.5s\n",
      "858:\tlearn: 0.4716029\ttotal: 3m 40s\tremaining: 36.2s\n",
      "859:\tlearn: 0.4715826\ttotal: 3m 40s\tremaining: 35.9s\n",
      "860:\tlearn: 0.4715690\ttotal: 3m 41s\tremaining: 35.7s\n",
      "861:\tlearn: 0.4715480\ttotal: 3m 41s\tremaining: 35.4s\n",
      "862:\tlearn: 0.4715248\ttotal: 3m 41s\tremaining: 35.2s\n",
      "863:\tlearn: 0.4715042\ttotal: 3m 41s\tremaining: 34.9s\n",
      "864:\tlearn: 0.4714851\ttotal: 3m 41s\tremaining: 34.6s\n",
      "865:\tlearn: 0.4714664\ttotal: 3m 42s\tremaining: 34.4s\n",
      "866:\tlearn: 0.4714455\ttotal: 3m 42s\tremaining: 34.1s\n",
      "867:\tlearn: 0.4714402\ttotal: 3m 42s\tremaining: 33.9s\n",
      "868:\tlearn: 0.4714229\ttotal: 3m 42s\tremaining: 33.6s\n",
      "869:\tlearn: 0.4714116\ttotal: 3m 43s\tremaining: 33.3s\n",
      "870:\tlearn: 0.4713939\ttotal: 3m 43s\tremaining: 33.1s\n",
      "871:\tlearn: 0.4713633\ttotal: 3m 43s\tremaining: 32.8s\n",
      "872:\tlearn: 0.4713488\ttotal: 3m 43s\tremaining: 32.6s\n",
      "873:\tlearn: 0.4713160\ttotal: 3m 44s\tremaining: 32.3s\n",
      "874:\tlearn: 0.4713023\ttotal: 3m 44s\tremaining: 32.1s\n",
      "875:\tlearn: 0.4712782\ttotal: 3m 44s\tremaining: 31.8s\n",
      "876:\tlearn: 0.4712503\ttotal: 3m 45s\tremaining: 31.6s\n",
      "877:\tlearn: 0.4712316\ttotal: 3m 45s\tremaining: 31.3s\n",
      "878:\tlearn: 0.4712109\ttotal: 3m 45s\tremaining: 31.1s\n",
      "879:\tlearn: 0.4711826\ttotal: 3m 45s\tremaining: 30.8s\n",
      "880:\tlearn: 0.4711568\ttotal: 3m 46s\tremaining: 30.5s\n",
      "881:\tlearn: 0.4711518\ttotal: 3m 46s\tremaining: 30.3s\n",
      "882:\tlearn: 0.4711072\ttotal: 3m 46s\tremaining: 30s\n",
      "883:\tlearn: 0.4710904\ttotal: 3m 46s\tremaining: 29.8s\n",
      "884:\tlearn: 0.4710557\ttotal: 3m 47s\tremaining: 29.5s\n",
      "885:\tlearn: 0.4710455\ttotal: 3m 47s\tremaining: 29.3s\n",
      "886:\tlearn: 0.4710196\ttotal: 3m 47s\tremaining: 29s\n",
      "887:\tlearn: 0.4710044\ttotal: 3m 48s\tremaining: 28.8s\n",
      "888:\tlearn: 0.4709786\ttotal: 3m 48s\tremaining: 28.5s\n",
      "889:\tlearn: 0.4709687\ttotal: 3m 48s\tremaining: 28.2s\n",
      "890:\tlearn: 0.4709540\ttotal: 3m 48s\tremaining: 28s\n",
      "891:\tlearn: 0.4709318\ttotal: 3m 49s\tremaining: 27.7s\n",
      "892:\tlearn: 0.4709049\ttotal: 3m 49s\tremaining: 27.5s\n",
      "893:\tlearn: 0.4708769\ttotal: 3m 49s\tremaining: 27.2s\n",
      "894:\tlearn: 0.4708572\ttotal: 3m 49s\tremaining: 27s\n",
      "895:\tlearn: 0.4708396\ttotal: 3m 50s\tremaining: 26.7s\n",
      "896:\tlearn: 0.4708133\ttotal: 3m 50s\tremaining: 26.5s\n",
      "897:\tlearn: 0.4707894\ttotal: 3m 50s\tremaining: 26.2s\n",
      "898:\tlearn: 0.4707671\ttotal: 3m 50s\tremaining: 25.9s\n",
      "899:\tlearn: 0.4707594\ttotal: 3m 51s\tremaining: 25.7s\n",
      "900:\tlearn: 0.4707310\ttotal: 3m 51s\tremaining: 25.4s\n",
      "901:\tlearn: 0.4707186\ttotal: 3m 51s\tremaining: 25.2s\n",
      "902:\tlearn: 0.4707049\ttotal: 3m 51s\tremaining: 24.9s\n",
      "903:\tlearn: 0.4706651\ttotal: 3m 52s\tremaining: 24.6s\n",
      "904:\tlearn: 0.4706249\ttotal: 3m 52s\tremaining: 24.4s\n",
      "905:\tlearn: 0.4706048\ttotal: 3m 52s\tremaining: 24.1s\n",
      "906:\tlearn: 0.4705691\ttotal: 3m 52s\tremaining: 23.9s\n",
      "907:\tlearn: 0.4705522\ttotal: 3m 53s\tremaining: 23.6s\n",
      "908:\tlearn: 0.4705401\ttotal: 3m 53s\tremaining: 23.4s\n",
      "909:\tlearn: 0.4705134\ttotal: 3m 53s\tremaining: 23.1s\n",
      "910:\tlearn: 0.4705052\ttotal: 3m 53s\tremaining: 22.8s\n",
      "911:\tlearn: 0.4704846\ttotal: 3m 54s\tremaining: 22.6s\n",
      "912:\tlearn: 0.4704662\ttotal: 3m 54s\tremaining: 22.3s\n",
      "913:\tlearn: 0.4704516\ttotal: 3m 54s\tremaining: 22.1s\n",
      "914:\tlearn: 0.4704378\ttotal: 3m 54s\tremaining: 21.8s\n",
      "915:\tlearn: 0.4704133\ttotal: 3m 55s\tremaining: 21.6s\n",
      "916:\tlearn: 0.4703959\ttotal: 3m 55s\tremaining: 21.3s\n",
      "917:\tlearn: 0.4703668\ttotal: 3m 55s\tremaining: 21s\n",
      "918:\tlearn: 0.4703378\ttotal: 3m 55s\tremaining: 20.8s\n",
      "919:\tlearn: 0.4703048\ttotal: 3m 56s\tremaining: 20.5s\n",
      "920:\tlearn: 0.4702807\ttotal: 3m 56s\tremaining: 20.3s\n",
      "921:\tlearn: 0.4702565\ttotal: 3m 56s\tremaining: 20s\n",
      "922:\tlearn: 0.4702481\ttotal: 3m 56s\tremaining: 19.8s\n",
      "923:\tlearn: 0.4702346\ttotal: 3m 57s\tremaining: 19.5s\n",
      "924:\tlearn: 0.4702140\ttotal: 3m 57s\tremaining: 19.3s\n",
      "925:\tlearn: 0.4701953\ttotal: 3m 57s\tremaining: 19s\n",
      "926:\tlearn: 0.4701808\ttotal: 3m 58s\tremaining: 18.7s\n",
      "927:\tlearn: 0.4701579\ttotal: 3m 58s\tremaining: 18.5s\n",
      "928:\tlearn: 0.4701426\ttotal: 3m 58s\tremaining: 18.2s\n"
     ]
    },
    {
     "name": "stdout",
     "output_type": "stream",
     "text": [
      "929:\tlearn: 0.4701164\ttotal: 3m 58s\tremaining: 18s\n",
      "930:\tlearn: 0.4700976\ttotal: 3m 58s\tremaining: 17.7s\n",
      "931:\tlearn: 0.4700851\ttotal: 3m 59s\tremaining: 17.4s\n",
      "932:\tlearn: 0.4700668\ttotal: 3m 59s\tremaining: 17.2s\n",
      "933:\tlearn: 0.4700528\ttotal: 3m 59s\tremaining: 16.9s\n",
      "934:\tlearn: 0.4700368\ttotal: 3m 59s\tremaining: 16.7s\n",
      "935:\tlearn: 0.4700195\ttotal: 4m\tremaining: 16.4s\n",
      "936:\tlearn: 0.4699990\ttotal: 4m\tremaining: 16.2s\n",
      "937:\tlearn: 0.4699907\ttotal: 4m\tremaining: 15.9s\n",
      "938:\tlearn: 0.4699687\ttotal: 4m\tremaining: 15.6s\n",
      "939:\tlearn: 0.4699535\ttotal: 4m 1s\tremaining: 15.4s\n",
      "940:\tlearn: 0.4699329\ttotal: 4m 1s\tremaining: 15.1s\n",
      "941:\tlearn: 0.4699142\ttotal: 4m 1s\tremaining: 14.9s\n",
      "942:\tlearn: 0.4698898\ttotal: 4m 1s\tremaining: 14.6s\n",
      "943:\tlearn: 0.4698655\ttotal: 4m 2s\tremaining: 14.4s\n",
      "944:\tlearn: 0.4698350\ttotal: 4m 2s\tremaining: 14.1s\n",
      "945:\tlearn: 0.4698002\ttotal: 4m 2s\tremaining: 13.8s\n",
      "946:\tlearn: 0.4697775\ttotal: 4m 2s\tremaining: 13.6s\n",
      "947:\tlearn: 0.4697701\ttotal: 4m 3s\tremaining: 13.3s\n",
      "948:\tlearn: 0.4697537\ttotal: 4m 3s\tremaining: 13.1s\n",
      "949:\tlearn: 0.4697343\ttotal: 4m 3s\tremaining: 12.8s\n",
      "950:\tlearn: 0.4697113\ttotal: 4m 4s\tremaining: 12.6s\n",
      "951:\tlearn: 0.4696889\ttotal: 4m 4s\tremaining: 12.3s\n",
      "952:\tlearn: 0.4696713\ttotal: 4m 4s\tremaining: 12.1s\n",
      "953:\tlearn: 0.4696404\ttotal: 4m 4s\tremaining: 11.8s\n",
      "954:\tlearn: 0.4696103\ttotal: 4m 4s\tremaining: 11.5s\n",
      "955:\tlearn: 0.4696017\ttotal: 4m 5s\tremaining: 11.3s\n",
      "956:\tlearn: 0.4695886\ttotal: 4m 5s\tremaining: 11s\n",
      "957:\tlearn: 0.4695794\ttotal: 4m 5s\tremaining: 10.8s\n",
      "958:\tlearn: 0.4695559\ttotal: 4m 5s\tremaining: 10.5s\n",
      "959:\tlearn: 0.4695496\ttotal: 4m 6s\tremaining: 10.3s\n",
      "960:\tlearn: 0.4695245\ttotal: 4m 6s\tremaining: 10s\n",
      "961:\tlearn: 0.4695001\ttotal: 4m 6s\tremaining: 9.74s\n",
      "962:\tlearn: 0.4694966\ttotal: 4m 6s\tremaining: 9.49s\n",
      "963:\tlearn: 0.4694780\ttotal: 4m 7s\tremaining: 9.23s\n",
      "964:\tlearn: 0.4694595\ttotal: 4m 7s\tremaining: 8.97s\n",
      "965:\tlearn: 0.4694271\ttotal: 4m 7s\tremaining: 8.72s\n",
      "966:\tlearn: 0.4694079\ttotal: 4m 7s\tremaining: 8.46s\n",
      "967:\tlearn: 0.4693864\ttotal: 4m 8s\tremaining: 8.21s\n",
      "968:\tlearn: 0.4693591\ttotal: 4m 8s\tremaining: 7.95s\n",
      "969:\tlearn: 0.4693385\ttotal: 4m 8s\tremaining: 7.7s\n",
      "970:\tlearn: 0.4693180\ttotal: 4m 9s\tremaining: 7.44s\n",
      "971:\tlearn: 0.4693057\ttotal: 4m 9s\tremaining: 7.18s\n",
      "972:\tlearn: 0.4692924\ttotal: 4m 9s\tremaining: 6.93s\n",
      "973:\tlearn: 0.4692828\ttotal: 4m 9s\tremaining: 6.67s\n",
      "974:\tlearn: 0.4692523\ttotal: 4m 10s\tremaining: 6.41s\n",
      "975:\tlearn: 0.4692237\ttotal: 4m 10s\tremaining: 6.16s\n",
      "976:\tlearn: 0.4692083\ttotal: 4m 10s\tremaining: 5.9s\n",
      "977:\tlearn: 0.4692040\ttotal: 4m 10s\tremaining: 5.64s\n",
      "978:\tlearn: 0.4691858\ttotal: 4m 11s\tremaining: 5.39s\n",
      "979:\tlearn: 0.4691600\ttotal: 4m 11s\tremaining: 5.13s\n",
      "980:\tlearn: 0.4691423\ttotal: 4m 11s\tremaining: 4.87s\n",
      "981:\tlearn: 0.4691100\ttotal: 4m 11s\tremaining: 4.62s\n",
      "982:\tlearn: 0.4690879\ttotal: 4m 12s\tremaining: 4.36s\n",
      "983:\tlearn: 0.4690722\ttotal: 4m 12s\tremaining: 4.1s\n",
      "984:\tlearn: 0.4690463\ttotal: 4m 12s\tremaining: 3.84s\n",
      "985:\tlearn: 0.4690206\ttotal: 4m 12s\tremaining: 3.59s\n",
      "986:\tlearn: 0.4689937\ttotal: 4m 12s\tremaining: 3.33s\n",
      "987:\tlearn: 0.4689771\ttotal: 4m 13s\tremaining: 3.08s\n",
      "988:\tlearn: 0.4689574\ttotal: 4m 13s\tremaining: 2.82s\n",
      "989:\tlearn: 0.4689422\ttotal: 4m 13s\tremaining: 2.56s\n",
      "990:\tlearn: 0.4689163\ttotal: 4m 13s\tremaining: 2.31s\n",
      "991:\tlearn: 0.4689056\ttotal: 4m 14s\tremaining: 2.05s\n",
      "992:\tlearn: 0.4688839\ttotal: 4m 14s\tremaining: 1.79s\n",
      "993:\tlearn: 0.4688695\ttotal: 4m 14s\tremaining: 1.54s\n",
      "994:\tlearn: 0.4688544\ttotal: 4m 15s\tremaining: 1.28s\n",
      "995:\tlearn: 0.4688507\ttotal: 4m 15s\tremaining: 1.02s\n",
      "996:\tlearn: 0.4688248\ttotal: 4m 15s\tremaining: 769ms\n",
      "997:\tlearn: 0.4688020\ttotal: 4m 15s\tremaining: 513ms\n",
      "998:\tlearn: 0.4687926\ttotal: 4m 16s\tremaining: 256ms\n",
      "999:\tlearn: 0.4687687\ttotal: 4m 16s\tremaining: 0us\n"
     ]
    }
   ],
   "source": [
    "import catboost as cb\n",
    "cb_model=cb.CatBoostClassifier(cat_features=cat_cols,one_hot_max_size=50)\n",
    "cb_model.fit(X_train,y_train)\n",
    "y_pred=cb_model.predict(X_test)"
   ]
  },
  {
   "cell_type": "code",
   "execution_count": 132,
   "metadata": {},
   "outputs": [
    {
     "name": "stdout",
     "output_type": "stream",
     "text": [
      "train score: 0.7911892903288066\n",
      "test score: 0.78357744847848\n"
     ]
    }
   ],
   "source": [
    "print('train score:',cb_model.score(X_train,y_train))\n",
    "print('test score:',cb_model.score(X_test,y_test))"
   ]
  },
  {
   "cell_type": "code",
   "execution_count": 133,
   "metadata": {},
   "outputs": [
    {
     "name": "stdout",
     "output_type": "stream",
     "text": [
      "train auc score: 0.739519979108682\n",
      "test auc score: 0.679846189751701\n"
     ]
    }
   ],
   "source": [
    "cb_train_prob=cb_model.predict_proba(X_train)[::,-1]\n",
    "cb_test_prob=cb_model.predict_proba(X_test)[::,-1]\n",
    "print('train auc score:',roc_auc_score(y_train,cb_train_prob))\n",
    "print('test auc score:',roc_auc_score(y_test,cb_test_prob))"
   ]
  },
  {
   "cell_type": "code",
   "execution_count": 134,
   "metadata": {},
   "outputs": [
    {
     "name": "stdout",
     "output_type": "stream",
     "text": [
      "              precision    recall  f1-score   support\n",
      "\n",
      "           0       0.79      0.99      0.88     36499\n",
      "           1       0.53      0.03      0.06     10132\n",
      "\n",
      "    accuracy                           0.78     46631\n",
      "   macro avg       0.66      0.51      0.47     46631\n",
      "weighted avg       0.73      0.78      0.70     46631\n",
      "\n"
     ]
    }
   ],
   "source": [
    "print(classification_report(y_test,y_pred))"
   ]
  },
  {
   "cell_type": "code",
   "execution_count": 135,
   "metadata": {},
   "outputs": [
    {
     "data": {
      "image/png": "[encoded data removed]",
      "text/plain": [
       "<Figure size 432x288 with 1 Axes>"
      ]
     },
     "metadata": {
      "needs_background": "light"
     },
     "output_type": "display_data"
    }
   ],
   "source": [
    "sns.distplot(lgb_test_prob,label=\"Lightgbm\",hist=False)\n",
    "sns.distplot(xgb_test_prob,label=\"xgboost\",hist=False)\n",
    "sns.distplot(cb_test_prob,label=\"catboost\",hist=False)\n",
    "sns.distplot(lda_test_prob,label=\"lda\",hist=False)\n",
    "plt.legend()\n",
    "plt.show()"
   ]
  },
  {
   "cell_type": "markdown",
   "metadata": {},
   "source": [
    "We see catboost have given us best score with auc_score of 0.679846189751701."
   ]
  }
 ],
 "metadata": {
  "kernelspec": {
   "display_name": "Python 3",
   "language": "python",
   "name": "python3"
  },
  "language_info": {
   "codemirror_mode": {
    "name": "ipython",
    "version": 3
   },
   "file_extension": ".py",
   "mimetype": "text/x-python",
   "name": "python",
   "nbconvert_exporter": "python",
   "pygments_lexer": "ipython3",
   "version": "3.7.3"
  }
 },
 "nbformat": 4,
 "nbformat_minor": 2
}
